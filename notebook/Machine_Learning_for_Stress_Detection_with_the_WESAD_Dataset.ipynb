{
  "nbformat": 4,
  "nbformat_minor": 0,
  "metadata": {
    "colab": {
      "provenance": []
    },
    "kernelspec": {
      "name": "python3",
      "display_name": "Python 3"
    },
    "language_info": {
      "name": "python"
    }
  },
  "cells": [
    {
      "cell_type": "code",
      "source": [
        "from google.colab import drive\n",
        "drive.mount('/content/drive')"
      ],
      "metadata": {
        "colab": {
          "base_uri": "https://localhost:8080/"
        },
        "id": "zIn6Jz04nxWK",
        "outputId": "8717a0d0-8a66-4b56-8d14-ee6fd7655d2e"
      },
      "execution_count": null,
      "outputs": [
        {
          "output_type": "stream",
          "name": "stdout",
          "text": [
            "Drive already mounted at /content/drive; to attempt to forcibly remount, call drive.mount(\"/content/drive\", force_remount=True).\n"
          ]
        }
      ]
    },
    {
      "cell_type": "code",
      "source": [
        "zip_path = \"/content/drive/MyDrive/WESAD.zip\""
      ],
      "metadata": {
        "id": "9aM0-vKkpCMK"
      },
      "execution_count": null,
      "outputs": []
    },
    {
      "cell_type": "code",
      "source": [
        "!unzip \"$zip_path\" -d \"/content/WESAD_raw\""
      ],
      "metadata": {
        "colab": {
          "base_uri": "https://localhost:8080/"
        },
        "id": "3yR-s_Kd3lHW",
        "outputId": "1910b1be-d7f1-4249-8de6-2d334cbf9948"
      },
      "execution_count": null,
      "outputs": [
        {
          "output_type": "stream",
          "name": "stdout",
          "text": [
            "Archive:  /content/drive/MyDrive/WESAD.zip\n",
            "   creating: /content/WESAD_raw/WESAD/\n",
            "   creating: /content/WESAD_raw/WESAD/S10/\n",
            "  inflating: /content/WESAD_raw/WESAD/S10/S10.pkl  \n",
            "  inflating: /content/WESAD_raw/WESAD/S10/S10_E4_Data.zip  \n",
            "  inflating: /content/WESAD_raw/WESAD/S10/S10_quest.csv  \n",
            "  inflating: /content/WESAD_raw/WESAD/S10/S10_readme.txt  \n",
            "  inflating: /content/WESAD_raw/WESAD/S10/S10_respiban.txt  \n",
            "   creating: /content/WESAD_raw/WESAD/S11/\n",
            "  inflating: /content/WESAD_raw/WESAD/S11/S11.pkl  \n",
            "  inflating: /content/WESAD_raw/WESAD/S11/S11_E4_Data.zip  \n",
            "  inflating: /content/WESAD_raw/WESAD/S11/S11_quest.csv  \n",
            "  inflating: /content/WESAD_raw/WESAD/S11/S11_readme.txt  \n",
            "  inflating: /content/WESAD_raw/WESAD/S11/S11_respiban.txt  \n",
            "   creating: /content/WESAD_raw/WESAD/S13/\n",
            "  inflating: /content/WESAD_raw/WESAD/S13/S13.pkl  \n",
            "  inflating: /content/WESAD_raw/WESAD/S13/S13_E4_Data.zip  \n",
            "  inflating: /content/WESAD_raw/WESAD/S13/S13_quest.csv  \n",
            "  inflating: /content/WESAD_raw/WESAD/S13/S13_readme.txt  \n",
            "  inflating: /content/WESAD_raw/WESAD/S13/S13_respiban.txt  \n",
            "   creating: /content/WESAD_raw/WESAD/S14/\n",
            "  inflating: /content/WESAD_raw/WESAD/S14/S14.pkl  \n",
            "  inflating: /content/WESAD_raw/WESAD/S14/S14_E4_Data.zip  \n",
            "  inflating: /content/WESAD_raw/WESAD/S14/S14_quest.csv  \n",
            "  inflating: /content/WESAD_raw/WESAD/S14/S14_readme.txt  \n",
            "  inflating: /content/WESAD_raw/WESAD/S14/S14_respiban.txt  \n",
            "   creating: /content/WESAD_raw/WESAD/S15/\n",
            "  inflating: /content/WESAD_raw/WESAD/S15/S15.pkl  \n",
            "  inflating: /content/WESAD_raw/WESAD/S15/S15_E4_Data.zip  \n",
            "  inflating: /content/WESAD_raw/WESAD/S15/S15_quest.csv  \n",
            "  inflating: /content/WESAD_raw/WESAD/S15/S15_readme.txt  \n",
            "  inflating: /content/WESAD_raw/WESAD/S15/S15_respiban.txt  \n",
            "   creating: /content/WESAD_raw/WESAD/S16/\n",
            "  inflating: /content/WESAD_raw/WESAD/S16/S16.pkl  \n",
            "  inflating: /content/WESAD_raw/WESAD/S16/S16_E4_Data.zip  \n",
            "  inflating: /content/WESAD_raw/WESAD/S16/S16_quest.csv  \n",
            "  inflating: /content/WESAD_raw/WESAD/S16/S16_readme.txt  \n",
            "  inflating: /content/WESAD_raw/WESAD/S16/S16_respiban.txt  \n",
            "   creating: /content/WESAD_raw/WESAD/S17/\n",
            "  inflating: /content/WESAD_raw/WESAD/S17/S17.pkl  \n",
            "  inflating: /content/WESAD_raw/WESAD/S17/S17_E4_Data.zip  \n",
            "  inflating: /content/WESAD_raw/WESAD/S17/S17_quest.csv  \n",
            "  inflating: /content/WESAD_raw/WESAD/S17/S17_readme.txt  \n",
            "  inflating: /content/WESAD_raw/WESAD/S17/S17_respiban.txt  \n",
            "   creating: /content/WESAD_raw/WESAD/S2/\n",
            "  inflating: /content/WESAD_raw/WESAD/S2/S2.pkl  \n",
            "  inflating: /content/WESAD_raw/WESAD/S2/S2_E4_Data.zip  \n",
            "  inflating: /content/WESAD_raw/WESAD/S2/S2_quest.csv  \n",
            "  inflating: /content/WESAD_raw/WESAD/S2/S2_readme.txt  \n",
            "  inflating: /content/WESAD_raw/WESAD/S2/S2_respiban.txt  \n",
            "   creating: /content/WESAD_raw/WESAD/S3/\n",
            "  inflating: /content/WESAD_raw/WESAD/S3/S3.pkl  \n",
            "  inflating: /content/WESAD_raw/WESAD/S3/S3_E4_Data.zip  \n",
            "  inflating: /content/WESAD_raw/WESAD/S3/S3_quest.csv  \n",
            "  inflating: /content/WESAD_raw/WESAD/S3/S3_readme.txt  \n",
            "  inflating: /content/WESAD_raw/WESAD/S3/S3_respiban.txt  \n",
            "   creating: /content/WESAD_raw/WESAD/S4/\n",
            "  inflating: /content/WESAD_raw/WESAD/S4/S4.pkl  \n",
            "  inflating: /content/WESAD_raw/WESAD/S4/S4_E4_Data.zip  \n",
            "  inflating: /content/WESAD_raw/WESAD/S4/S4_quest.csv  \n",
            "  inflating: /content/WESAD_raw/WESAD/S4/S4_readme.txt  \n",
            "  inflating: /content/WESAD_raw/WESAD/S4/S4_respiban.txt  \n",
            "   creating: /content/WESAD_raw/WESAD/S5/\n",
            "  inflating: /content/WESAD_raw/WESAD/S5/S5.pkl  \n",
            "  inflating: /content/WESAD_raw/WESAD/S5/S5_E4_Data.zip  \n",
            "  inflating: /content/WESAD_raw/WESAD/S5/S5_quest.csv  \n",
            "  inflating: /content/WESAD_raw/WESAD/S5/S5_readme.txt  \n",
            "  inflating: /content/WESAD_raw/WESAD/S5/S5_respiban.txt  \n",
            "   creating: /content/WESAD_raw/WESAD/S6/\n",
            "  inflating: /content/WESAD_raw/WESAD/S6/S6.pkl  \n",
            "  inflating: /content/WESAD_raw/WESAD/S6/S6_E4_Data.zip  \n",
            "  inflating: /content/WESAD_raw/WESAD/S6/S6_quest.csv  \n",
            "  inflating: /content/WESAD_raw/WESAD/S6/S6_readme.txt  \n",
            "  inflating: /content/WESAD_raw/WESAD/S6/S6_respiban.txt  \n",
            "   creating: /content/WESAD_raw/WESAD/S7/\n",
            "  inflating: /content/WESAD_raw/WESAD/S7/S7.pkl  \n",
            "  inflating: /content/WESAD_raw/WESAD/S7/S7_E4_Data.zip  \n",
            "  inflating: /content/WESAD_raw/WESAD/S7/S7_quest.csv  \n",
            "  inflating: /content/WESAD_raw/WESAD/S7/S7_readme.txt  \n",
            "  inflating: /content/WESAD_raw/WESAD/S7/S7_respiban.txt  \n",
            "   creating: /content/WESAD_raw/WESAD/S8/\n",
            "  inflating: /content/WESAD_raw/WESAD/S8/S8.pkl  \n",
            "  inflating: /content/WESAD_raw/WESAD/S8/S8_E4_Data.zip  \n",
            "  inflating: /content/WESAD_raw/WESAD/S8/S8_quest.csv  \n",
            "  inflating: /content/WESAD_raw/WESAD/S8/S8_readme.txt  \n",
            "  inflating: /content/WESAD_raw/WESAD/S8/S8_respiban.txt  \n",
            "   creating: /content/WESAD_raw/WESAD/S9/\n",
            "  inflating: /content/WESAD_raw/WESAD/S9/S9.pkl  \n",
            "  inflating: /content/WESAD_raw/WESAD/S9/S9_E4_Data.zip  \n",
            "  inflating: /content/WESAD_raw/WESAD/S9/S9_quest.csv  \n",
            "  inflating: /content/WESAD_raw/WESAD/S9/S9_readme.txt  \n",
            "  inflating: /content/WESAD_raw/WESAD/S9/S9_respiban.txt  \n",
            "  inflating: /content/WESAD_raw/WESAD/wesad_readme.pdf  \n"
          ]
        }
      ]
    },
    {
      "cell_type": "code",
      "execution_count": null,
      "metadata": {
        "colab": {
          "base_uri": "https://localhost:8080/"
        },
        "id": "kPi4zzBfm0nJ",
        "outputId": "638e0ab9-3588-4edd-b1e8-94eb4eb9ee7d"
      },
      "outputs": [
        {
          "output_type": "stream",
          "name": "stdout",
          "text": [
            "Processing /content/WESAD_raw/WESAD/S10/S10.pkl...\n",
            "Processing /content/WESAD_raw/WESAD/S11/S11.pkl...\n",
            "Processing /content/WESAD_raw/WESAD/S13/S13.pkl...\n",
            "Processing /content/WESAD_raw/WESAD/S14/S14.pkl...\n",
            "Processing /content/WESAD_raw/WESAD/S15/S15.pkl...\n",
            "Processing /content/WESAD_raw/WESAD/S16/S16.pkl...\n",
            "Processing /content/WESAD_raw/WESAD/S17/S17.pkl...\n",
            "Processing /content/WESAD_raw/WESAD/S2/S2.pkl...\n",
            "Processing /content/WESAD_raw/WESAD/S3/S3.pkl...\n",
            "Processing /content/WESAD_raw/WESAD/S4/S4.pkl...\n",
            "Processing /content/WESAD_raw/WESAD/S5/S5.pkl...\n",
            "Processing /content/WESAD_raw/WESAD/S6/S6.pkl...\n",
            "Processing /content/WESAD_raw/WESAD/S7/S7.pkl...\n",
            "Processing /content/WESAD_raw/WESAD/S8/S8.pkl...\n",
            "Processing /content/WESAD_raw/WESAD/S9/S9.pkl...\n",
            "✅ Saved reduced dataset to /content/drive/MyDrive/wesad_reduced.csv, shape: (347472, 7)\n"
          ]
        }
      ],
      "source": [
        "import pickle\n",
        "import pandas as pd\n",
        "import os\n",
        "\n",
        "wesad_path = \"/content/WESAD_raw/WESAD\"\n",
        "all_data = []\n",
        "\n",
        "# Loop through each subject folder\n",
        "for subject_folder in sorted(os.listdir(wesad_path)):\n",
        "    if not subject_folder.startswith(\"S\"):\n",
        "        continue\n",
        "\n",
        "    subject_id = subject_folder[1:]  # e.g., \"S2\" -> \"2\"\n",
        "    pkl_path = os.path.join(wesad_path, subject_folder, f\"{subject_folder}.pkl\")\n",
        "    print(f\"Processing {pkl_path}...\")\n",
        "\n",
        "    # Load pickle\n",
        "    with open(pkl_path, 'rb') as f:\n",
        "        data = pickle.load(f, encoding='latin1')\n",
        "\n",
        "    # Extract each signal separately (chest device)\n",
        "    chest_signals = data['signal']['chest']\n",
        "    acc_x = chest_signals['ACC'][:, 0]\n",
        "    acc_y = chest_signals['ACC'][:, 1]\n",
        "    acc_z = chest_signals['ACC'][:, 2]\n",
        "    ecg = chest_signals['ECG'][:, 0]\n",
        "    emg = chest_signals['EMG'][:, 0]\n",
        "    eda = chest_signals['EDA'][:, 0]\n",
        "    temp = chest_signals['Temp'][:, 0]\n",
        "    resp = chest_signals['Resp'][:, 0]\n",
        "\n",
        "    # Build DataFrame\n",
        "    chest_df = pd.DataFrame({\n",
        "        'ACC_X': acc_x,\n",
        "        'ACC_Y': acc_y,\n",
        "        'ACC_Z': acc_z,\n",
        "        'ECG': ecg,\n",
        "        'EMG': emg,\n",
        "        'EDA': eda,\n",
        "        'TEMP': temp,\n",
        "        'RESP': resp\n",
        "    })\n",
        "\n",
        "    # Downsample to 4 Hz (original 700 Hz)\n",
        "    ds_factor = int(700 / 4)\n",
        "    chest_df = chest_df.iloc[::ds_factor, :]\n",
        "\n",
        "    # Labels (same downsampling)\n",
        "    labels = pd.Series(data['label'][::ds_factor], name='tag')\n",
        "    chest_df['tag'] = labels\n",
        "\n",
        "    # Add subject_id\n",
        "    chest_df['subject_id'] = subject_id\n",
        "\n",
        "    all_data.append(chest_df)\n",
        "\n",
        "# Combine all subjects\n",
        "merged_df = pd.concat(all_data, ignore_index=True)\n",
        "\n",
        "# Keep only relevant columns (HR is not computed yet)\n",
        "final_cols = ['TEMP', 'EDA', 'ACC_Y', 'ACC_Z', 'ACC_X', 'tag', 'subject_id']\n",
        "merged_df = merged_df[final_cols]\n",
        "\n",
        "# Save to Drive\n",
        "output_path = \"/content/drive/MyDrive/wesad_reduced.csv\"\n",
        "merged_df.to_csv(output_path, index=False)\n",
        "print(f\"✅ Saved reduced dataset to {output_path}, shape: {merged_df.shape}\")\n"
      ]
    },
    {
      "cell_type": "code",
      "source": [
        "import pandas as pd\n",
        "import numpy as np\n",
        "from sklearn.metrics import accuracy_score, f1_score, roc_auc_score\n",
        "from xgboost import XGBClassifier\n",
        "\n",
        "# Load the reduced dataset\n",
        "df = pd.read_csv(\"/content/drive/MyDrive/wesad_reduced.csv\")\n",
        "df.head()"
      ],
      "metadata": {
        "colab": {
          "base_uri": "https://localhost:8080/",
          "height": 206
        },
        "id": "2xJDpPqC5bya",
        "outputId": "91ce1b32-0539-403d-f10b-15cc3553585f"
      },
      "execution_count": null,
      "outputs": [
        {
          "output_type": "execute_result",
          "data": {
            "text/plain": [
              "        TEMP       EDA   ACC_Y   ACC_Z   ACC_X  tag  subject_id\n",
              "0  33.695860  0.716019  0.1520  0.3416  1.1278  0.0          10\n",
              "1  33.753480  0.793839 -0.0362 -0.2702  0.8580  0.0          10\n",
              "2  33.741333  0.709152  0.0248 -0.2450  0.8904  0.0          10\n",
              "3  33.729218  0.717163  0.0270 -0.2490  0.8860  1.0          10\n",
              "4  33.717070  0.720978  0.0490 -0.2378  0.8850  1.0          10"
            ],
            "text/html": [
              "\n",
              "  <div id=\"df-e79e2670-c9cd-4ece-add4-8ee989731de8\" class=\"colab-df-container\">\n",
              "    <div>\n",
              "<style scoped>\n",
              "    .dataframe tbody tr th:only-of-type {\n",
              "        vertical-align: middle;\n",
              "    }\n",
              "\n",
              "    .dataframe tbody tr th {\n",
              "        vertical-align: top;\n",
              "    }\n",
              "\n",
              "    .dataframe thead th {\n",
              "        text-align: right;\n",
              "    }\n",
              "</style>\n",
              "<table border=\"1\" class=\"dataframe\">\n",
              "  <thead>\n",
              "    <tr style=\"text-align: right;\">\n",
              "      <th></th>\n",
              "      <th>TEMP</th>\n",
              "      <th>EDA</th>\n",
              "      <th>ACC_Y</th>\n",
              "      <th>ACC_Z</th>\n",
              "      <th>ACC_X</th>\n",
              "      <th>tag</th>\n",
              "      <th>subject_id</th>\n",
              "    </tr>\n",
              "  </thead>\n",
              "  <tbody>\n",
              "    <tr>\n",
              "      <th>0</th>\n",
              "      <td>33.695860</td>\n",
              "      <td>0.716019</td>\n",
              "      <td>0.1520</td>\n",
              "      <td>0.3416</td>\n",
              "      <td>1.1278</td>\n",
              "      <td>0.0</td>\n",
              "      <td>10</td>\n",
              "    </tr>\n",
              "    <tr>\n",
              "      <th>1</th>\n",
              "      <td>33.753480</td>\n",
              "      <td>0.793839</td>\n",
              "      <td>-0.0362</td>\n",
              "      <td>-0.2702</td>\n",
              "      <td>0.8580</td>\n",
              "      <td>0.0</td>\n",
              "      <td>10</td>\n",
              "    </tr>\n",
              "    <tr>\n",
              "      <th>2</th>\n",
              "      <td>33.741333</td>\n",
              "      <td>0.709152</td>\n",
              "      <td>0.0248</td>\n",
              "      <td>-0.2450</td>\n",
              "      <td>0.8904</td>\n",
              "      <td>0.0</td>\n",
              "      <td>10</td>\n",
              "    </tr>\n",
              "    <tr>\n",
              "      <th>3</th>\n",
              "      <td>33.729218</td>\n",
              "      <td>0.717163</td>\n",
              "      <td>0.0270</td>\n",
              "      <td>-0.2490</td>\n",
              "      <td>0.8860</td>\n",
              "      <td>1.0</td>\n",
              "      <td>10</td>\n",
              "    </tr>\n",
              "    <tr>\n",
              "      <th>4</th>\n",
              "      <td>33.717070</td>\n",
              "      <td>0.720978</td>\n",
              "      <td>0.0490</td>\n",
              "      <td>-0.2378</td>\n",
              "      <td>0.8850</td>\n",
              "      <td>1.0</td>\n",
              "      <td>10</td>\n",
              "    </tr>\n",
              "  </tbody>\n",
              "</table>\n",
              "</div>\n",
              "    <div class=\"colab-df-buttons\">\n",
              "\n",
              "  <div class=\"colab-df-container\">\n",
              "    <button class=\"colab-df-convert\" onclick=\"convertToInteractive('df-e79e2670-c9cd-4ece-add4-8ee989731de8')\"\n",
              "            title=\"Convert this dataframe to an interactive table.\"\n",
              "            style=\"display:none;\">\n",
              "\n",
              "  <svg xmlns=\"http://www.w3.org/2000/svg\" height=\"24px\" viewBox=\"0 -960 960 960\">\n",
              "    <path d=\"M120-120v-720h720v720H120Zm60-500h600v-160H180v160Zm220 220h160v-160H400v160Zm0 220h160v-160H400v160ZM180-400h160v-160H180v160Zm440 0h160v-160H620v160ZM180-180h160v-160H180v160Zm440 0h160v-160H620v160Z\"/>\n",
              "  </svg>\n",
              "    </button>\n",
              "\n",
              "  <style>\n",
              "    .colab-df-container {\n",
              "      display:flex;\n",
              "      gap: 12px;\n",
              "    }\n",
              "\n",
              "    .colab-df-convert {\n",
              "      background-color: #E8F0FE;\n",
              "      border: none;\n",
              "      border-radius: 50%;\n",
              "      cursor: pointer;\n",
              "      display: none;\n",
              "      fill: #1967D2;\n",
              "      height: 32px;\n",
              "      padding: 0 0 0 0;\n",
              "      width: 32px;\n",
              "    }\n",
              "\n",
              "    .colab-df-convert:hover {\n",
              "      background-color: #E2EBFA;\n",
              "      box-shadow: 0px 1px 2px rgba(60, 64, 67, 0.3), 0px 1px 3px 1px rgba(60, 64, 67, 0.15);\n",
              "      fill: #174EA6;\n",
              "    }\n",
              "\n",
              "    .colab-df-buttons div {\n",
              "      margin-bottom: 4px;\n",
              "    }\n",
              "\n",
              "    [theme=dark] .colab-df-convert {\n",
              "      background-color: #3B4455;\n",
              "      fill: #D2E3FC;\n",
              "    }\n",
              "\n",
              "    [theme=dark] .colab-df-convert:hover {\n",
              "      background-color: #434B5C;\n",
              "      box-shadow: 0px 1px 3px 1px rgba(0, 0, 0, 0.15);\n",
              "      filter: drop-shadow(0px 1px 2px rgba(0, 0, 0, 0.3));\n",
              "      fill: #FFFFFF;\n",
              "    }\n",
              "  </style>\n",
              "\n",
              "    <script>\n",
              "      const buttonEl =\n",
              "        document.querySelector('#df-e79e2670-c9cd-4ece-add4-8ee989731de8 button.colab-df-convert');\n",
              "      buttonEl.style.display =\n",
              "        google.colab.kernel.accessAllowed ? 'block' : 'none';\n",
              "\n",
              "      async function convertToInteractive(key) {\n",
              "        const element = document.querySelector('#df-e79e2670-c9cd-4ece-add4-8ee989731de8');\n",
              "        const dataTable =\n",
              "          await google.colab.kernel.invokeFunction('convertToInteractive',\n",
              "                                                    [key], {});\n",
              "        if (!dataTable) return;\n",
              "\n",
              "        const docLinkHtml = 'Like what you see? Visit the ' +\n",
              "          '<a target=\"_blank\" href=https://colab.research.google.com/notebooks/data_table.ipynb>data table notebook</a>'\n",
              "          + ' to learn more about interactive tables.';\n",
              "        element.innerHTML = '';\n",
              "        dataTable['output_type'] = 'display_data';\n",
              "        await google.colab.output.renderOutput(dataTable, element);\n",
              "        const docLink = document.createElement('div');\n",
              "        docLink.innerHTML = docLinkHtml;\n",
              "        element.appendChild(docLink);\n",
              "      }\n",
              "    </script>\n",
              "  </div>\n",
              "\n",
              "\n",
              "    <div id=\"df-c202da7b-a496-4092-a5e7-b601c909ac3c\">\n",
              "      <button class=\"colab-df-quickchart\" onclick=\"quickchart('df-c202da7b-a496-4092-a5e7-b601c909ac3c')\"\n",
              "                title=\"Suggest charts\"\n",
              "                style=\"display:none;\">\n",
              "\n",
              "<svg xmlns=\"http://www.w3.org/2000/svg\" height=\"24px\"viewBox=\"0 0 24 24\"\n",
              "     width=\"24px\">\n",
              "    <g>\n",
              "        <path d=\"M19 3H5c-1.1 0-2 .9-2 2v14c0 1.1.9 2 2 2h14c1.1 0 2-.9 2-2V5c0-1.1-.9-2-2-2zM9 17H7v-7h2v7zm4 0h-2V7h2v10zm4 0h-2v-4h2v4z\"/>\n",
              "    </g>\n",
              "</svg>\n",
              "      </button>\n",
              "\n",
              "<style>\n",
              "  .colab-df-quickchart {\n",
              "      --bg-color: #E8F0FE;\n",
              "      --fill-color: #1967D2;\n",
              "      --hover-bg-color: #E2EBFA;\n",
              "      --hover-fill-color: #174EA6;\n",
              "      --disabled-fill-color: #AAA;\n",
              "      --disabled-bg-color: #DDD;\n",
              "  }\n",
              "\n",
              "  [theme=dark] .colab-df-quickchart {\n",
              "      --bg-color: #3B4455;\n",
              "      --fill-color: #D2E3FC;\n",
              "      --hover-bg-color: #434B5C;\n",
              "      --hover-fill-color: #FFFFFF;\n",
              "      --disabled-bg-color: #3B4455;\n",
              "      --disabled-fill-color: #666;\n",
              "  }\n",
              "\n",
              "  .colab-df-quickchart {\n",
              "    background-color: var(--bg-color);\n",
              "    border: none;\n",
              "    border-radius: 50%;\n",
              "    cursor: pointer;\n",
              "    display: none;\n",
              "    fill: var(--fill-color);\n",
              "    height: 32px;\n",
              "    padding: 0;\n",
              "    width: 32px;\n",
              "  }\n",
              "\n",
              "  .colab-df-quickchart:hover {\n",
              "    background-color: var(--hover-bg-color);\n",
              "    box-shadow: 0 1px 2px rgba(60, 64, 67, 0.3), 0 1px 3px 1px rgba(60, 64, 67, 0.15);\n",
              "    fill: var(--button-hover-fill-color);\n",
              "  }\n",
              "\n",
              "  .colab-df-quickchart-complete:disabled,\n",
              "  .colab-df-quickchart-complete:disabled:hover {\n",
              "    background-color: var(--disabled-bg-color);\n",
              "    fill: var(--disabled-fill-color);\n",
              "    box-shadow: none;\n",
              "  }\n",
              "\n",
              "  .colab-df-spinner {\n",
              "    border: 2px solid var(--fill-color);\n",
              "    border-color: transparent;\n",
              "    border-bottom-color: var(--fill-color);\n",
              "    animation:\n",
              "      spin 1s steps(1) infinite;\n",
              "  }\n",
              "\n",
              "  @keyframes spin {\n",
              "    0% {\n",
              "      border-color: transparent;\n",
              "      border-bottom-color: var(--fill-color);\n",
              "      border-left-color: var(--fill-color);\n",
              "    }\n",
              "    20% {\n",
              "      border-color: transparent;\n",
              "      border-left-color: var(--fill-color);\n",
              "      border-top-color: var(--fill-color);\n",
              "    }\n",
              "    30% {\n",
              "      border-color: transparent;\n",
              "      border-left-color: var(--fill-color);\n",
              "      border-top-color: var(--fill-color);\n",
              "      border-right-color: var(--fill-color);\n",
              "    }\n",
              "    40% {\n",
              "      border-color: transparent;\n",
              "      border-right-color: var(--fill-color);\n",
              "      border-top-color: var(--fill-color);\n",
              "    }\n",
              "    60% {\n",
              "      border-color: transparent;\n",
              "      border-right-color: var(--fill-color);\n",
              "    }\n",
              "    80% {\n",
              "      border-color: transparent;\n",
              "      border-right-color: var(--fill-color);\n",
              "      border-bottom-color: var(--fill-color);\n",
              "    }\n",
              "    90% {\n",
              "      border-color: transparent;\n",
              "      border-bottom-color: var(--fill-color);\n",
              "    }\n",
              "  }\n",
              "</style>\n",
              "\n",
              "      <script>\n",
              "        async function quickchart(key) {\n",
              "          const quickchartButtonEl =\n",
              "            document.querySelector('#' + key + ' button');\n",
              "          quickchartButtonEl.disabled = true;  // To prevent multiple clicks.\n",
              "          quickchartButtonEl.classList.add('colab-df-spinner');\n",
              "          try {\n",
              "            const charts = await google.colab.kernel.invokeFunction(\n",
              "                'suggestCharts', [key], {});\n",
              "          } catch (error) {\n",
              "            console.error('Error during call to suggestCharts:', error);\n",
              "          }\n",
              "          quickchartButtonEl.classList.remove('colab-df-spinner');\n",
              "          quickchartButtonEl.classList.add('colab-df-quickchart-complete');\n",
              "        }\n",
              "        (() => {\n",
              "          let quickchartButtonEl =\n",
              "            document.querySelector('#df-c202da7b-a496-4092-a5e7-b601c909ac3c button');\n",
              "          quickchartButtonEl.style.display =\n",
              "            google.colab.kernel.accessAllowed ? 'block' : 'none';\n",
              "        })();\n",
              "      </script>\n",
              "    </div>\n",
              "\n",
              "    </div>\n",
              "  </div>\n"
            ],
            "application/vnd.google.colaboratory.intrinsic+json": {
              "type": "dataframe",
              "variable_name": "df"
            }
          },
          "metadata": {},
          "execution_count": 14
        }
      ]
    },
    {
      "cell_type": "code",
      "source": [
        "# Drop NaN and unlabeled (0)\n",
        "df = df.dropna(subset=['tag'])\n",
        "df = df[df['tag'] != 0]\n",
        "\n",
        "# Binary classification: stress=1, everything else=0\n",
        "df['tag'] = df['tag'].apply(lambda x: 1 if x == 2 else 0)\n"
      ],
      "metadata": {
        "id": "ADZtJCOl66Z8"
      },
      "execution_count": null,
      "outputs": []
    },
    {
      "cell_type": "code",
      "source": [
        "# Features and target\n",
        "X = df.drop(columns=['tag', 'subject_id'])\n",
        "y = df['tag']\n",
        "subjects = df['subject_id'].unique()\n",
        "\n",
        "results = []\n",
        "\n",
        "for test_sub in subjects:\n",
        "    # Train-test split by subject\n",
        "    X_train = X[df['subject_id'] != test_sub]\n",
        "    y_train = y[df['subject_id'] != test_sub]\n",
        "    X_test = X[df['subject_id'] == test_sub]\n",
        "    y_test = y[df['subject_id'] == test_sub]\n",
        "\n",
        "    # Train XGBoost\n",
        "    model = XGBClassifier(\n",
        "        n_estimators=100,\n",
        "        max_depth=6,\n",
        "        learning_rate=0.1,\n",
        "        use_label_encoder=False,\n",
        "        eval_metric='logloss'\n",
        "    )\n",
        "    model.fit(X_train, y_train)\n",
        "\n",
        "    # Predictions\n",
        "    y_pred = model.predict(X_test)\n",
        "    y_prob = model.predict_proba(X_test)[:, 1] if len(np.unique(y_test)) == 2 else None\n",
        "\n",
        "    # Metrics\n",
        "    acc = accuracy_score(y_test, y_pred)\n",
        "    f1 = f1_score(y_test, y_pred, average='weighted')\n",
        "    roc_auc = roc_auc_score(y_test, y_prob) if y_prob is not None else np.nan\n",
        "\n",
        "    results.append((test_sub, acc, f1, roc_auc))\n",
        "    print(f\"Subject {test_sub}: Accuracy={acc:.4f}, F1={f1:.4f}, ROC-AUC={roc_auc:.4f}\")\n",
        "\n",
        "# Average performance\n",
        "avg_acc = np.mean([r[1] for r in results])\n",
        "avg_f1 = np.mean([r[2] for r in results])\n",
        "avg_auc = np.nanmean([r[3] for r in results])\n",
        "\n",
        "print(\"\\n=== LOSO Cross-Validation Results ===\")\n",
        "print(f\"Average Accuracy: {avg_acc:.4f}\")\n",
        "print(f\"Average F1 Score: {avg_f1:.4f}\")\n",
        "print(f\"Average ROC-AUC: {avg_auc:.4f}\")"
      ],
      "metadata": {
        "colab": {
          "base_uri": "https://localhost:8080/"
        },
        "id": "NeQcNR7A6Tf1",
        "outputId": "9f7e4cf3-71fd-440f-bc7a-1aae0c740667"
      },
      "execution_count": null,
      "outputs": [
        {
          "output_type": "stream",
          "name": "stderr",
          "text": [
            "/usr/local/lib/python3.11/dist-packages/xgboost/training.py:183: UserWarning: [07:39:45] WARNING: /workspace/src/learner.cc:738: \n",
            "Parameters: { \"use_label_encoder\" } are not used.\n",
            "\n",
            "  bst.update(dtrain, iteration=i, fobj=obj)\n"
          ]
        },
        {
          "output_type": "stream",
          "name": "stdout",
          "text": [
            "Subject 10: Accuracy=0.7671, F1=0.6660, ROC-AUC=0.1723\n"
          ]
        },
        {
          "output_type": "stream",
          "name": "stderr",
          "text": [
            "/usr/local/lib/python3.11/dist-packages/xgboost/training.py:183: UserWarning: [07:39:45] WARNING: /workspace/src/learner.cc:738: \n",
            "Parameters: { \"use_label_encoder\" } are not used.\n",
            "\n",
            "  bst.update(dtrain, iteration=i, fobj=obj)\n"
          ]
        },
        {
          "output_type": "stream",
          "name": "stdout",
          "text": [
            "Subject 11: Accuracy=0.7671, F1=0.6779, ROC-AUC=0.2763\n"
          ]
        },
        {
          "output_type": "stream",
          "name": "stderr",
          "text": [
            "/usr/local/lib/python3.11/dist-packages/xgboost/training.py:183: UserWarning: [07:39:46] WARNING: /workspace/src/learner.cc:738: \n",
            "Parameters: { \"use_label_encoder\" } are not used.\n",
            "\n",
            "  bst.update(dtrain, iteration=i, fobj=obj)\n"
          ]
        },
        {
          "output_type": "stream",
          "name": "stdout",
          "text": [
            "Subject 13: Accuracy=0.3623, F1=0.4163, ROC-AUC=0.0358\n"
          ]
        },
        {
          "output_type": "stream",
          "name": "stderr",
          "text": [
            "/usr/local/lib/python3.11/dist-packages/xgboost/training.py:183: UserWarning: [07:39:46] WARNING: /workspace/src/learner.cc:738: \n",
            "Parameters: { \"use_label_encoder\" } are not used.\n",
            "\n",
            "  bst.update(dtrain, iteration=i, fobj=obj)\n"
          ]
        },
        {
          "output_type": "stream",
          "name": "stdout",
          "text": [
            "Subject 14: Accuracy=0.5556, F1=0.5736, ROC-AUC=0.3140\n",
            "Subject 15: Accuracy=0.7808, F1=0.6847, ROC-AUC=0.4079\n"
          ]
        },
        {
          "output_type": "stream",
          "name": "stderr",
          "text": [
            "/usr/local/lib/python3.11/dist-packages/xgboost/training.py:183: UserWarning: [07:39:46] WARNING: /workspace/src/learner.cc:738: \n",
            "Parameters: { \"use_label_encoder\" } are not used.\n",
            "\n",
            "  bst.update(dtrain, iteration=i, fobj=obj)\n",
            "/usr/local/lib/python3.11/dist-packages/xgboost/training.py:183: UserWarning: [07:39:46] WARNING: /workspace/src/learner.cc:738: \n",
            "Parameters: { \"use_label_encoder\" } are not used.\n",
            "\n",
            "  bst.update(dtrain, iteration=i, fobj=obj)\n"
          ]
        },
        {
          "output_type": "stream",
          "name": "stdout",
          "text": [
            "Subject 16: Accuracy=0.7917, F1=0.6996, ROC-AUC=0.4333\n",
            "Subject 17: Accuracy=0.7465, F1=0.6622, ROC-AUC=0.3580\n",
            "Subject 2: Accuracy=0.7857, F1=0.6914, ROC-AUC=0.0521\n"
          ]
        },
        {
          "output_type": "stream",
          "name": "stderr",
          "text": [
            "/usr/local/lib/python3.11/dist-packages/xgboost/training.py:183: UserWarning: [07:39:46] WARNING: /workspace/src/learner.cc:738: \n",
            "Parameters: { \"use_label_encoder\" } are not used.\n",
            "\n",
            "  bst.update(dtrain, iteration=i, fobj=obj)\n",
            "/usr/local/lib/python3.11/dist-packages/xgboost/training.py:183: UserWarning: [07:39:46] WARNING: /workspace/src/learner.cc:738: \n",
            "Parameters: { \"use_label_encoder\" } are not used.\n",
            "\n",
            "  bst.update(dtrain, iteration=i, fobj=obj)\n",
            "/usr/local/lib/python3.11/dist-packages/xgboost/training.py:183: UserWarning: [07:39:47] WARNING: /workspace/src/learner.cc:738: \n",
            "Parameters: { \"use_label_encoder\" } are not used.\n",
            "\n",
            "  bst.update(dtrain, iteration=i, fobj=obj)\n"
          ]
        },
        {
          "output_type": "stream",
          "name": "stdout",
          "text": [
            "Subject 3: Accuracy=0.5211, F1=0.5674, ROC-AUC=0.3822\n",
            "Subject 4: Accuracy=0.7500, F1=0.6786, ROC-AUC=0.1819\n",
            "Subject 5: Accuracy=0.7808, F1=0.6967, ROC-AUC=0.2420\n"
          ]
        },
        {
          "output_type": "stream",
          "name": "stderr",
          "text": [
            "/usr/local/lib/python3.11/dist-packages/xgboost/training.py:183: UserWarning: [07:39:47] WARNING: /workspace/src/learner.cc:738: \n",
            "Parameters: { \"use_label_encoder\" } are not used.\n",
            "\n",
            "  bst.update(dtrain, iteration=i, fobj=obj)\n",
            "/usr/local/lib/python3.11/dist-packages/xgboost/training.py:183: UserWarning: [07:39:47] WARNING: /workspace/src/learner.cc:738: \n",
            "Parameters: { \"use_label_encoder\" } are not used.\n",
            "\n",
            "  bst.update(dtrain, iteration=i, fobj=obj)\n",
            "/usr/local/lib/python3.11/dist-packages/xgboost/training.py:183: UserWarning: [07:39:47] WARNING: /workspace/src/learner.cc:738: \n",
            "Parameters: { \"use_label_encoder\" } are not used.\n",
            "\n",
            "  bst.update(dtrain, iteration=i, fobj=obj)\n"
          ]
        },
        {
          "output_type": "stream",
          "name": "stdout",
          "text": [
            "Subject 6: Accuracy=0.8082, F1=0.7346, ROC-AUC=0.4885\n",
            "Subject 7: Accuracy=0.7887, F1=0.6956, ROC-AUC=0.5798\n",
            "Subject 8: Accuracy=0.6250, F1=0.6591, ROC-AUC=0.6702\n"
          ]
        },
        {
          "output_type": "stream",
          "name": "stderr",
          "text": [
            "/usr/local/lib/python3.11/dist-packages/xgboost/training.py:183: UserWarning: [07:39:47] WARNING: /workspace/src/learner.cc:738: \n",
            "Parameters: { \"use_label_encoder\" } are not used.\n",
            "\n",
            "  bst.update(dtrain, iteration=i, fobj=obj)\n",
            "/usr/local/lib/python3.11/dist-packages/xgboost/training.py:183: UserWarning: [07:39:47] WARNING: /workspace/src/learner.cc:738: \n",
            "Parameters: { \"use_label_encoder\" } are not used.\n",
            "\n",
            "  bst.update(dtrain, iteration=i, fobj=obj)\n",
            "/usr/local/lib/python3.11/dist-packages/xgboost/training.py:183: UserWarning: [07:39:47] WARNING: /workspace/src/learner.cc:738: \n",
            "Parameters: { \"use_label_encoder\" } are not used.\n",
            "\n",
            "  bst.update(dtrain, iteration=i, fobj=obj)\n"
          ]
        },
        {
          "output_type": "stream",
          "name": "stdout",
          "text": [
            "Subject 9: Accuracy=0.7568, F1=0.6869, ROC-AUC=0.3339\n",
            "\n",
            "=== LOSO Cross-Validation Results ===\n",
            "Average Accuracy: 0.7058\n",
            "Average F1 Score: 0.6527\n",
            "Average ROC-AUC: 0.3285\n"
          ]
        }
      ]
    },
    {
      "cell_type": "code",
      "source": [
        "import pickle\n",
        "import pandas as pd\n",
        "import numpy as np\n",
        "import os\n",
        "from scipy.signal import find_peaks\n",
        "\n",
        "wesad_path = \"/content/WESAD_raw/WESAD\"\n",
        "all_data = []\n",
        "\n",
        "def compute_hrv(rr_intervals):\n",
        "    \"\"\"Compute RMSSD, SDNN, pNN50 from RR intervals (seconds).\"\"\"\n",
        "    if len(rr_intervals) < 2:\n",
        "        return np.nan, np.nan, np.nan\n",
        "    diff_rr = np.diff(rr_intervals)\n",
        "    rmssd = np.sqrt(np.mean(diff_rr**2))\n",
        "    sdnn = np.std(rr_intervals)\n",
        "    pnn50 = np.sum(np.abs(diff_rr) > 0.05) / len(diff_rr)\n",
        "    return rmssd, sdnn, pnn50\n",
        "\n",
        "for subject_folder in sorted(os.listdir(wesad_path)):\n",
        "    if not subject_folder.startswith(\"S\"):\n",
        "        continue\n",
        "    subject_id = subject_folder[1:]\n",
        "    pkl_path = os.path.join(wesad_path, subject_folder, f\"{subject_folder}.pkl\")\n",
        "    print(f\"Processing {pkl_path}...\")\n",
        "\n",
        "    with open(pkl_path, 'rb') as f:\n",
        "        data = pickle.load(f, encoding='latin1')\n",
        "\n",
        "    chest = data['signal']['chest']\n",
        "    acc_x = chest['ACC'][:, 0]\n",
        "    acc_y = chest['ACC'][:, 1]\n",
        "    acc_z = chest['ACC'][:, 2]\n",
        "    ecg = chest['ECG'][:, 0]\n",
        "    eda = chest['EDA'][:, 0]\n",
        "    temp = chest['Temp'][:, 0]\n",
        "\n",
        "    # HR + HRV calculation from ECG\n",
        "    peaks, _ = find_peaks(ecg, distance=0.6*700)  # min 0.6 sec between beats\n",
        "    rr_intervals = np.diff(peaks) / 700.0  # seconds\n",
        "    rmssd, sdnn, pnn50 = compute_hrv(rr_intervals)\n",
        "\n",
        "    hr_series = np.zeros(len(ecg))\n",
        "    if len(rr_intervals) > 0:\n",
        "        hr_values = 60.0 / rr_intervals\n",
        "        for i in range(len(peaks)-1):\n",
        "            hr_series[peaks[i]:peaks[i+1]] = hr_values[i]\n",
        "    else:\n",
        "        hr_series[:] = np.nan\n",
        "\n",
        "    ds_factor = int(700 / 4)\n",
        "    df = pd.DataFrame({\n",
        "        'ACC_X': acc_x[::ds_factor],\n",
        "        'ACC_Y': acc_y[::ds_factor],\n",
        "        'ACC_Z': acc_z[::ds_factor],\n",
        "        'EDA': eda[::ds_factor],\n",
        "        'TEMP': temp[::ds_factor],\n",
        "        'HR': hr_series[::ds_factor],\n",
        "        'tag': data['label'][::ds_factor],\n",
        "        'subject_id': subject_id\n",
        "    })\n",
        "\n",
        "    # Add same HRV values for all rows (per subject baseline)\n",
        "    df['RMSSD'] = rmssd\n",
        "    df['SDNN'] = sdnn\n",
        "    df['pNN50'] = pnn50\n",
        "\n",
        "    # Rolling window stats (20s → 80 samples at 4 Hz)\n",
        "    win = 80\n",
        "    for col in ['EDA', 'TEMP', 'ACC_X', 'ACC_Y', 'ACC_Z']:\n",
        "        df[f'{col}_mean'] = df[col].rolling(win, min_periods=1).mean()\n",
        "        df[f'{col}_std'] = df[col].rolling(win, min_periods=1).std()\n",
        "        df[f'{col}_min'] = df[col].rolling(win, min_periods=1).min()\n",
        "        df[f'{col}_max'] = df[col].rolling(win, min_periods=1).max()\n",
        "\n",
        "    all_data.append(df)\n",
        "\n",
        "merged_df = pd.concat(all_data, ignore_index=True)\n",
        "\n",
        "# Binary label: stress=1, else=0\n",
        "merged_df = merged_df.dropna(subset=['tag'])\n",
        "merged_df = merged_df[merged_df['tag'] != 0]\n",
        "merged_df['tag'] = merged_df['tag'].apply(lambda x: 1 if x == 2 else 0)\n",
        "\n",
        "# Save enhanced dataset\n",
        "output_path = \"/content/drive/MyDrive/wesad_enhanced.csv\"\n",
        "merged_df.to_csv(output_path, index=False)\n",
        "print(f\"✅ Saved to {output_path}, shape={merged_df.shape}\")"
      ],
      "metadata": {
        "colab": {
          "base_uri": "https://localhost:8080/"
        },
        "id": "Jkff6_xZ69-r",
        "outputId": "0937a761-ba6b-4c69-da8c-2085a00cc0de"
      },
      "execution_count": null,
      "outputs": [
        {
          "output_type": "stream",
          "name": "stdout",
          "text": [
            "Processing /content/WESAD_raw/WESAD/S10/S10.pkl...\n",
            "Processing /content/WESAD_raw/WESAD/S11/S11.pkl...\n",
            "Processing /content/WESAD_raw/WESAD/S13/S13.pkl...\n",
            "Processing /content/WESAD_raw/WESAD/S14/S14.pkl...\n",
            "Processing /content/WESAD_raw/WESAD/S15/S15.pkl...\n",
            "Processing /content/WESAD_raw/WESAD/S16/S16.pkl...\n",
            "Processing /content/WESAD_raw/WESAD/S17/S17.pkl...\n",
            "Processing /content/WESAD_raw/WESAD/S2/S2.pkl...\n",
            "Processing /content/WESAD_raw/WESAD/S3/S3.pkl...\n",
            "Processing /content/WESAD_raw/WESAD/S4/S4.pkl...\n",
            "Processing /content/WESAD_raw/WESAD/S5/S5.pkl...\n",
            "Processing /content/WESAD_raw/WESAD/S6/S6.pkl...\n",
            "Processing /content/WESAD_raw/WESAD/S7/S7.pkl...\n",
            "Processing /content/WESAD_raw/WESAD/S8/S8.pkl...\n",
            "Processing /content/WESAD_raw/WESAD/S9/S9.pkl...\n",
            "✅ Saved to /content/drive/MyDrive/wesad_enhanced.csv, shape=(189444, 31)\n"
          ]
        }
      ]
    },
    {
      "cell_type": "code",
      "source": [
        "from sklearn.metrics import accuracy_score, f1_score, roc_auc_score, precision_recall_curve\n",
        "from sklearn.preprocessing import StandardScaler\n",
        "from xgboost import XGBClassifier\n",
        "\n",
        "subjects = df['subject_id'].unique()\n",
        "\n",
        "results = []\n",
        "\n",
        "for test_sub in subjects:\n",
        "    # Split train/test\n",
        "    train_df = df[df['subject_id'] != test_sub]\n",
        "    test_df = df[df['subject_id'] == test_sub]\n",
        "\n",
        "    X_train = train_df.drop(columns=['tag', 'subject_id'])\n",
        "    y_train = train_df['tag']\n",
        "    X_test = test_df.drop(columns=['tag', 'subject_id'])\n",
        "    y_test = test_df['tag']\n",
        "\n",
        "    # 1️⃣ Class ratio check\n",
        "    pos_ratio_test = (y_test == 1).sum() / len(y_test)\n",
        "    print(f\"Subject {test_sub} → Stress ratio in test set: {pos_ratio_test:.3f}\")\n",
        "\n",
        "    # 2️⃣ Better scale_pos_weight (global in this fold)\n",
        "    scale_pos_weight = (y_train == 0).sum() / (y_train == 1).sum()\n",
        "    print(f\"scale_pos_weight = {scale_pos_weight:.2f}\")\n",
        "\n",
        "    # Normalize features\n",
        "    scaler = StandardScaler()\n",
        "    X_train = scaler.fit_transform(X_train)\n",
        "    X_test = scaler.transform(X_test)\n",
        "\n",
        "    # Train model\n",
        "    model = XGBClassifier(\n",
        "        n_estimators=300,\n",
        "        max_depth=6,\n",
        "        learning_rate=0.05,\n",
        "        subsample=0.8,\n",
        "        colsample_bytree=0.8,\n",
        "        eval_metric='logloss',\n",
        "        scale_pos_weight=scale_pos_weight\n",
        "    )\n",
        "    model.fit(X_train, y_train)\n",
        "\n",
        "    # 3️⃣ Predict probabilities\n",
        "    y_prob = model.predict_proba(X_test)[:, 1]\n",
        "\n",
        "    # Find best threshold for F1 on TRAIN set\n",
        "    train_prob = model.predict_proba(X_train)[:, 1]\n",
        "    precision, recall, thresholds = precision_recall_curve(y_train, train_prob)\n",
        "    f1_scores = (2 * precision * recall) / (precision + recall + 1e-9)\n",
        "    best_thresh = thresholds[np.argmax(f1_scores)]\n",
        "    print(f\"Best threshold for subject {test_sub}: {best_thresh:.3f}\")\n",
        "\n",
        "    # Apply threshold\n",
        "    y_pred = (y_prob >= best_thresh).astype(int)\n",
        "\n",
        "    # Metrics\n",
        "    acc = accuracy_score(y_test, y_pred)\n",
        "    f1 = f1_score(y_test, y_pred, zero_division=0)\n",
        "    try:\n",
        "        roc_auc = roc_auc_score(y_test, y_prob)\n",
        "    except:\n",
        "        roc_auc = np.nan  # If only one class present in y_test\n",
        "\n",
        "    results.append((test_sub, acc, f1, roc_auc))\n",
        "    print(f\"Subject {test_sub}: Acc={acc:.4f}, F1={f1:.4f}, AUC={roc_auc:.4f}\\n\")\n",
        "\n",
        "# Final averages\n",
        "print(\"\\n=== LOSO Average Results ===\")\n",
        "print(f\"Accuracy: {np.mean([r[1] for r in results]):.4f}\")\n",
        "print(f\"F1 Score: {np.mean([r[2] for r in results]):.4f}\")\n",
        "print(f\"ROC-AUC : {np.nanmean([r[3] for r in results]):.4f}\")"
      ],
      "metadata": {
        "colab": {
          "base_uri": "https://localhost:8080/"
        },
        "id": "X1hop50Y8xiN",
        "outputId": "6a34e91e-983e-4c90-a19f-d4878d5d5cd6"
      },
      "execution_count": null,
      "outputs": [
        {
          "output_type": "stream",
          "name": "stdout",
          "text": [
            "Subject 10 → Stress ratio in test set: 0.225\n",
            "scale_pos_weight = 3.78\n",
            "Best threshold for subject 10: 0.864\n",
            "Subject 10: Acc=0.7753, F1=0.0000, AUC=0.7191\n",
            "\n",
            "Subject 11 → Stress ratio in test set: 0.214\n",
            "scale_pos_weight = 3.76\n",
            "Best threshold for subject 11: 0.889\n",
            "Subject 11: Acc=0.8959, F1=0.7696, AUC=0.9355\n",
            "\n",
            "Subject 13 → Stress ratio in test set: 0.212\n",
            "scale_pos_weight = 3.75\n",
            "Best threshold for subject 13: 0.927\n",
            "Subject 13: Acc=0.8140, F1=0.2764, AUC=0.8663\n",
            "\n",
            "Subject 14 → Stress ratio in test set: 0.211\n",
            "scale_pos_weight = 3.75\n",
            "Best threshold for subject 14: 0.912\n",
            "Subject 14: Acc=0.7528, F1=0.0162, AUC=0.8010\n",
            "\n",
            "Subject 15 → Stress ratio in test set: 0.216\n",
            "scale_pos_weight = 3.76\n",
            "Best threshold for subject 15: 0.881\n",
            "Subject 15: Acc=0.8089, F1=0.2574, AUC=0.9543\n",
            "\n",
            "Subject 16 → Stress ratio in test set: 0.212\n",
            "scale_pos_weight = 3.75\n",
            "Best threshold for subject 16: 0.852\n",
            "Subject 16: Acc=0.9627, F1=0.9055, AUC=0.9848\n",
            "\n",
            "Subject 17 → Stress ratio in test set: 0.227\n",
            "scale_pos_weight = 3.78\n",
            "Best threshold for subject 17: 0.916\n",
            "Subject 17: Acc=0.7727, F1=0.0000, AUC=0.8746\n",
            "\n",
            "Subject 2 → Stress ratio in test set: 0.204\n",
            "scale_pos_weight = 3.74\n",
            "Best threshold for subject 2: 0.858\n",
            "Subject 2: Acc=0.7919, F1=0.0585, AUC=0.8277\n",
            "\n",
            "Subject 3 → Stress ratio in test set: 0.204\n",
            "scale_pos_weight = 3.74\n",
            "Best threshold for subject 3: 0.903\n",
            "Subject 3: Acc=0.7963, F1=0.0000, AUC=0.8724\n",
            "\n",
            "Subject 4 → Stress ratio in test set: 0.204\n",
            "scale_pos_weight = 3.74\n",
            "Best threshold for subject 4: 0.880\n",
            "Subject 4: Acc=0.8641, F1=0.4997, AUC=1.0000\n",
            "\n",
            "Subject 5 → Stress ratio in test set: 0.202\n",
            "scale_pos_weight = 3.74\n",
            "Best threshold for subject 5: 0.849\n",
            "Subject 5: Acc=0.6365, F1=0.0243, AUC=0.3541\n",
            "\n",
            "Subject 6 → Stress ratio in test set: 0.205\n",
            "scale_pos_weight = 3.74\n",
            "Best threshold for subject 6: 0.884\n",
            "Subject 6: Acc=0.7947, F1=0.0000, AUC=0.8091\n",
            "\n",
            "Subject 7 → Stress ratio in test set: 0.204\n",
            "scale_pos_weight = 3.74\n",
            "Best threshold for subject 7: 0.881\n",
            "Subject 7: Acc=0.7132, F1=0.0000, AUC=0.3377\n",
            "\n",
            "Subject 8 → Stress ratio in test set: 0.212\n",
            "scale_pos_weight = 3.76\n",
            "Best threshold for subject 8: 0.896\n",
            "Subject 8: Acc=0.7878, F1=0.0000, AUC=0.6677\n",
            "\n",
            "Subject 9 → Stress ratio in test set: 0.203\n",
            "scale_pos_weight = 3.74\n",
            "Best threshold for subject 9: 0.901\n",
            "Subject 9: Acc=0.8049, F1=0.0782, AUC=0.8091\n",
            "\n",
            "\n",
            "=== LOSO Average Results ===\n",
            "Accuracy: 0.7981\n",
            "F1 Score: 0.1924\n",
            "ROC-AUC : 0.7876\n"
          ]
        }
      ]
    },
    {
      "cell_type": "code",
      "source": [
        "from sklearn.metrics import accuracy_score, f1_score, roc_auc_score\n",
        "import pandas as pd\n",
        "import numpy as np\n",
        "from xgboost import XGBClassifier\n",
        "\n",
        "# Load dataset\n",
        "df = pd.read_csv(\"/content/drive/MyDrive/wesad_enhanced.csv\")\n",
        "subjects = df['subject_id'].unique()\n",
        "\n",
        "results = []\n",
        "\n",
        "# Step 1 — Per-subject baseline normalization\n",
        "df_norm = []\n",
        "for sub in subjects:\n",
        "    sub_df = df[df['subject_id'] == sub].copy()\n",
        "    features = sub_df.drop(columns=['tag', 'subject_id'])\n",
        "    sub_df[features.columns] = (features - features.mean()) / features.std()\n",
        "    df_norm.append(sub_df)\n",
        "\n",
        "df = pd.concat(df_norm, ignore_index=True)\n",
        "\n",
        "# Step 2 — LOSO cross-validation\n",
        "for test_sub in subjects:\n",
        "    train_df = df[df['subject_id'] != test_sub]\n",
        "    test_df = df[df['subject_id'] == test_sub]\n",
        "\n",
        "    X_train = train_df.drop(columns=['tag', 'subject_id'])\n",
        "    y_train = train_df['tag']\n",
        "    X_test = test_df.drop(columns=['tag', 'subject_id'])\n",
        "    y_test = test_df['tag']\n",
        "\n",
        "    # Handle missing values if any\n",
        "    X_train = X_train.fillna(0)\n",
        "    X_test = X_test.fillna(0)\n",
        "\n",
        "    # Class imbalance weight\n",
        "    scale_pos_weight = (y_train == 0).sum() / (y_train == 1).sum()\n",
        "\n",
        "    # Train model\n",
        "    model = XGBClassifier(\n",
        "        n_estimators=300,\n",
        "        max_depth=6,\n",
        "        learning_rate=0.05,\n",
        "        subsample=0.8,\n",
        "        colsample_bytree=0.8,\n",
        "        eval_metric='logloss',\n",
        "        scale_pos_weight=scale_pos_weight\n",
        "    )\n",
        "    model.fit(X_train, y_train)\n",
        "\n",
        "    # Predict probabilities\n",
        "    y_prob = model.predict_proba(X_test)[:, 1]\n",
        "\n",
        "    # Step 3 — Lower threshold to 0.3\n",
        "    y_pred = (y_prob >= 0.3).astype(int)\n",
        "\n",
        "    # Metrics\n",
        "    acc = accuracy_score(y_test, y_pred)\n",
        "    f1 = f1_score(y_test, y_pred, zero_division=0)\n",
        "    try:\n",
        "        auc = roc_auc_score(y_test, y_prob)\n",
        "    except:\n",
        "        auc = np.nan\n",
        "\n",
        "    results.append((test_sub, acc, f1, auc))\n",
        "    print(f\"Subject {test_sub}: Acc={acc:.4f}, F1={f1:.4f}, AUC={auc:.4f}\")\n",
        "\n",
        "# Average results\n",
        "print(\"\\n=== LOSO Average Results ===\")\n",
        "print(f\"Accuracy: {np.mean([r[1] for r in results]):.4f}\")\n",
        "print(f\"F1 Score: {np.mean([r[2] for r in results]):.4f}\")\n",
        "print(f\"ROC-AUC : {np.nanmean([r[3] for r in results]):.4f}\")"
      ],
      "metadata": {
        "colab": {
          "base_uri": "https://localhost:8080/"
        },
        "id": "gV6o6n7K_eoj",
        "outputId": "eccba4be-13a4-49b5-91a7-92447cbe82db"
      },
      "execution_count": null,
      "outputs": [
        {
          "output_type": "stream",
          "name": "stdout",
          "text": [
            "Subject 10: Acc=0.8021, F1=0.2185, AUC=0.9940\n",
            "Subject 11: Acc=0.9581, F1=0.9063, AUC=0.9845\n",
            "Subject 13: Acc=0.9175, F1=0.7833, AUC=0.9708\n",
            "Subject 14: Acc=0.8066, F1=0.5916, AUC=0.8622\n",
            "Subject 15: Acc=0.9435, F1=0.8638, AUC=0.9743\n",
            "Subject 16: Acc=0.9792, F1=0.9533, AUC=0.9844\n",
            "Subject 17: Acc=0.9216, F1=0.8528, AUC=0.9972\n",
            "Subject 2: Acc=0.9004, F1=0.7427, AUC=0.9666\n",
            "Subject 3: Acc=0.8986, F1=0.7741, AUC=0.9633\n",
            "Subject 4: Acc=0.9501, F1=0.8707, AUC=0.9876\n",
            "Subject 5: Acc=0.9509, F1=0.8676, AUC=0.9916\n",
            "Subject 6: Acc=0.8150, F1=0.4988, AUC=0.9172\n",
            "Subject 7: Acc=0.9783, F1=0.9486, AUC=0.9982\n",
            "Subject 8: Acc=0.8431, F1=0.5948, AUC=0.9083\n",
            "Subject 9: Acc=0.8473, F1=0.4205, AUC=0.9427\n",
            "\n",
            "=== LOSO Average Results ===\n",
            "Accuracy: 0.9008\n",
            "F1 Score: 0.7258\n",
            "ROC-AUC : 0.9629\n"
          ]
        }
      ]
    },
    {
      "cell_type": "code",
      "source": [
        "import pandas as pd\n",
        "import matplotlib.pyplot as plt\n",
        "import numpy as np\n",
        "\n",
        "# Data provided\n",
        "data = {\n",
        "    \"Subject\": [\"10\", \"11\", \"13\", \"14\", \"15\", \"16\", \"17\", \"2\", \"3\", \"4\", \"5\", \"6\", \"7\", \"8\", \"9\"],\n",
        "    \"Accuracy\": [0.8021, 0.9581, 0.9175, 0.8066, 0.9435, 0.9792, 0.9216, 0.9004, 0.8986, 0.9501, 0.9509, 0.8150, 0.9783, 0.8431, 0.8473],\n",
        "    \"F1\": [0.2185, 0.9063, 0.7833, 0.5916, 0.8638, 0.9533, 0.8528, 0.7427, 0.7741, 0.8707, 0.8676, 0.4988, 0.9486, 0.5948, 0.4205],\n",
        "    \"ROC_AUC\": [0.9940, 0.9845, 0.9708, 0.8622, 0.9743, 0.9844, 0.9972, 0.9666, 0.9633, 0.9876, 0.9916, 0.9172, 0.9982, 0.9083, 0.9427]\n",
        "}\n",
        "\n",
        "# LOSO average\n",
        "loso_avg = {\n",
        "    \"Accuracy\": 0.9008,\n",
        "    \"F1\": 0.7258,\n",
        "    \"ROC_AUC\": 0.9629\n",
        "}\n",
        "\n",
        "# Create DataFrame\n",
        "df = pd.DataFrame(data)\n",
        "\n",
        "# Save CSV\n",
        "csv_path = \"/content/drive/MyDrive/subject_metrics.csv\"\n",
        "df.to_csv(csv_path, index=False)\n",
        "\n",
        "# Plotting bar chart\n",
        "fig, ax = plt.subplots(figsize=(14, 7))\n",
        "\n",
        "bar_width = 0.25\n",
        "index = np.arange(len(df))\n",
        "\n",
        "# Bars for each metric\n",
        "bars1 = ax.bar(index, df[\"Accuracy\"], bar_width, label=\"Accuracy\")\n",
        "bars2 = ax.bar(index + bar_width, df[\"F1\"], bar_width, label=\"F1 Score\")\n",
        "bars3 = ax.bar(index + 2 * bar_width, df[\"ROC_AUC\"], bar_width, label=\"ROC-AUC\")\n",
        "\n",
        "# Add LOSO average as a horizontal line for each metric\n",
        "ax.axhline(loso_avg[\"Accuracy\"], color='blue', linestyle='--', linewidth=1, label=\"LOSO Avg Accuracy\")\n",
        "ax.axhline(loso_avg[\"F1\"], color='orange', linestyle='--', linewidth=1, label=\"LOSO Avg F1\")\n",
        "ax.axhline(loso_avg[\"ROC_AUC\"], color='green', linestyle='--', linewidth=1, label=\"LOSO Avg ROC-AUC\")\n",
        "\n",
        "# X-axis settings\n",
        "ax.set_xlabel('Subjects')\n",
        "ax.set_ylabel('Metric Values')\n",
        "ax.set_title('Subject-wise Metrics with LOSO Average')\n",
        "ax.set_xticks(index + bar_width)\n",
        "ax.set_xticklabels(df[\"Subject\"])\n",
        "ax.legend(loc='upper left', bbox_to_anchor=(1,1))\n",
        "\n",
        "plt.tight_layout()\n",
        "plt.show()\n",
        "\n",
        "csv_path"
      ],
      "metadata": {
        "colab": {
          "base_uri": "https://localhost:8080/",
          "height": 726
        },
        "id": "_NrvvYG5_x5t",
        "outputId": "909d391d-95b0-49f6-e12e-8a3d19308715"
      },
      "execution_count": null,
      "outputs": [
        {
          "output_type": "display_data",
          "data": {
            "text/plain": [
              "<Figure size 1400x700 with 1 Axes>"
            ],
            "image/png": "[encoded data removed]"
          },
          "metadata": {}
        },
        {
          "output_type": "execute_result",
          "data": {
            "text/plain": [
              "'/content/drive/MyDrive/subject_metrics.csv'"
            ],
            "application/vnd.google.colaboratory.intrinsic+json": {
              "type": "string"
            }
          },
          "metadata": {},
          "execution_count": 32
        }
      ]
    },
    {
      "cell_type": "code",
      "source": [
        "# Notebook 2: Visualization & Reporting\n",
        "\n",
        "import pandas as pd\n",
        "import matplotlib.pyplot as plt\n",
        "import numpy as np\n",
        "\n",
        "# ===== Step 1: Load CSV =====\n",
        "df = pd.read_csv(\"/content/drive/MyDrive/subject_metrics.csv\")  # Update path if needed\n",
        "\n",
        "# ===== Step 2: Calculate LOSO averages dynamically =====\n",
        "loso_avg = {\n",
        "    \"Accuracy\": df[\"Accuracy\"].mean(),\n",
        "    \"F1\": df[\"F1\"].mean(),\n",
        "    \"ROC_AUC\": df[\"ROC_AUC\"].mean()\n",
        "}\n",
        "\n",
        "print(\"LOSO Averages:\")\n",
        "for metric, value in loso_avg.items():\n",
        "    print(f\"{metric}: {value:.4f}\")\n",
        "\n",
        "# ===== Step 3: Bar Chart with LOSO lines =====\n",
        "fig, ax = plt.subplots(figsize=(14, 7))\n",
        "bar_width = 0.25\n",
        "index = np.arange(len(df))\n",
        "\n",
        "bars1 = ax.bar(index, df[\"Accuracy\"], bar_width, label=\"Accuracy\", color='skyblue')\n",
        "bars2 = ax.bar(index + bar_width, df[\"F1\"], bar_width, label=\"F1 Score\", color='orange')\n",
        "bars3 = ax.bar(index + 2 * bar_width, df[\"ROC_AUC\"], bar_width, label=\"ROC-AUC\", color='green')\n",
        "\n",
        "# LOSO lines with labels\n",
        "ax.axhline(loso_avg[\"Accuracy\"], color='blue', linestyle='--', linewidth=1, label=f\"LOSO Avg Accuracy ({loso_avg['Accuracy']:.3f})\")\n",
        "ax.axhline(loso_avg[\"F1\"], color='darkorange', linestyle='--', linewidth=1, label=f\"LOSO Avg F1 ({loso_avg['F1']:.3f})\")\n",
        "ax.axhline(loso_avg[\"ROC_AUC\"], color='darkgreen', linestyle='--', linewidth=1, label=f\"LOSO Avg ROC-AUC ({loso_avg['ROC_AUC']:.3f})\")\n",
        "\n",
        "# ===== Step 4: Add labels above bars =====\n",
        "def add_labels(bars):\n",
        "    for bar in bars:\n",
        "        height = bar.get_height()\n",
        "        ax.annotate(f\"{height:.2f}\",\n",
        "                    xy=(bar.get_x() + bar.get_width() / 2, height),\n",
        "                    xytext=(0, 3),  # Offset label\n",
        "                    textcoords=\"offset points\",\n",
        "                    ha='center', va='bottom', fontsize=8)\n",
        "\n",
        "add_labels(bars1)\n",
        "add_labels(bars2)\n",
        "add_labels(bars3)\n",
        "\n",
        "# Axis & Labels\n",
        "ax.set_xlabel('Subjects')\n",
        "ax.set_ylabel('Metric Values')\n",
        "ax.set_title('Subject-wise Metrics with LOSO Average')\n",
        "ax.set_xticks(index + bar_width)\n",
        "ax.set_xticklabels(df[\"Subject\"])\n",
        "ax.legend(loc='upper left', bbox_to_anchor=(1, 1))\n",
        "\n",
        "plt.tight_layout()\n",
        "plt.show()\n",
        "\n",
        "# ===== Step 5: Summary Statistics Table =====\n",
        "summary = df.describe().T  # Transpose for better readability\n",
        "summary[\"mean\"] = df.mean()\n",
        "summary[\"std_dev\"] = df.std()\n",
        "\n",
        "print(\"\\nSummary Statistics:\")\n",
        "print(summary)\n",
        "\n",
        "# Optionally save summary to CSV\n",
        "summary.to_csv(\"/content/drive/MyDrive/metrics_summary.csv\")"
      ],
      "metadata": {
        "colab": {
          "base_uri": "https://localhost:8080/",
          "height": 1000
        },
        "id": "fhpYdET9LnB9",
        "outputId": "975cefdd-cd22-41de-8d14-65f45fba3ca6"
      },
      "execution_count": null,
      "outputs": [
        {
          "output_type": "stream",
          "name": "stdout",
          "text": [
            "LOSO Averages:\n",
            "Accuracy: 0.9008\n",
            "F1: 0.7258\n",
            "ROC_AUC: 0.9629\n"
          ]
        },
        {
          "output_type": "display_data",
          "data": {
            "text/plain": [
              "<Figure size 1400x700 with 1 Axes>"
            ],
            "image/png": "[encoded data removed]"
          },
          "metadata": {}
        },
        {
          "output_type": "stream",
          "name": "stdout",
          "text": [
            "\n",
            "Summary Statistics:\n",
            "          count      mean       std     min     25%     50%       75%  \\\n",
            "Subject    15.0  9.333333  4.879500  2.0000  5.5000  9.0000  13.50000   \n",
            "Accuracy   15.0  0.900820  0.062727  0.8021  0.8452  0.9175   0.95050   \n",
            "F1         15.0  0.725827  0.216042  0.2185  0.5932  0.7833   0.86915   \n",
            "ROC_AUC    15.0  0.962860  0.039258  0.8622  0.9530  0.9743   0.98960   \n",
            "\n",
            "              max   std_dev  \n",
            "Subject   17.0000  4.879500  \n",
            "Accuracy   0.9792  0.062727  \n",
            "F1         0.9533  0.216042  \n",
            "ROC_AUC    0.9982  0.039258  \n"
          ]
        }
      ]
    },
    {
      "cell_type": "code",
      "source": [
        "t = pd.read_csv(\"/content/drive/MyDrive/metrics_summary.csv\")\n",
        "t"
      ],
      "metadata": {
        "colab": {
          "base_uri": "https://localhost:8080/",
          "height": 175
        },
        "id": "SSG7Z_GXMfMW",
        "outputId": "3e8bd831-9bb8-45c6-efae-1c26e1d350fa"
      },
      "execution_count": null,
      "outputs": [
        {
          "output_type": "execute_result",
          "data": {
            "text/plain": [
              "  Unnamed: 0  count      mean       std     min     25%     50%       75%  \\\n",
              "0    Subject   15.0  9.333333  4.879500  2.0000  5.5000  9.0000  13.50000   \n",
              "1   Accuracy   15.0  0.900820  0.062727  0.8021  0.8452  0.9175   0.95050   \n",
              "2         F1   15.0  0.725827  0.216042  0.2185  0.5932  0.7833   0.86915   \n",
              "3    ROC_AUC   15.0  0.962860  0.039258  0.8622  0.9530  0.9743   0.98960   \n",
              "\n",
              "       max   std_dev  \n",
              "0  17.0000  4.879500  \n",
              "1   0.9792  0.062727  \n",
              "2   0.9533  0.216042  \n",
              "3   0.9982  0.039258  "
            ],
            "text/html": [
              "\n",
              "  <div id=\"df-c952c61d-f338-4489-a31c-7d32f94d62ee\" class=\"colab-df-container\">\n",
              "    <div>\n",
              "<style scoped>\n",
              "    .dataframe tbody tr th:only-of-type {\n",
              "        vertical-align: middle;\n",
              "    }\n",
              "\n",
              "    .dataframe tbody tr th {\n",
              "        vertical-align: top;\n",
              "    }\n",
              "\n",
              "    .dataframe thead th {\n",
              "        text-align: right;\n",
              "    }\n",
              "</style>\n",
              "<table border=\"1\" class=\"dataframe\">\n",
              "  <thead>\n",
              "    <tr style=\"text-align: right;\">\n",
              "      <th></th>\n",
              "      <th>Unnamed: 0</th>\n",
              "      <th>count</th>\n",
              "      <th>mean</th>\n",
              "      <th>std</th>\n",
              "      <th>min</th>\n",
              "      <th>25%</th>\n",
              "      <th>50%</th>\n",
              "      <th>75%</th>\n",
              "      <th>max</th>\n",
              "      <th>std_dev</th>\n",
              "    </tr>\n",
              "  </thead>\n",
              "  <tbody>\n",
              "    <tr>\n",
              "      <th>0</th>\n",
              "      <td>Subject</td>\n",
              "      <td>15.0</td>\n",
              "      <td>9.333333</td>\n",
              "      <td>4.879500</td>\n",
              "      <td>2.0000</td>\n",
              "      <td>5.5000</td>\n",
              "      <td>9.0000</td>\n",
              "      <td>13.50000</td>\n",
              "      <td>17.0000</td>\n",
              "      <td>4.879500</td>\n",
              "    </tr>\n",
              "    <tr>\n",
              "      <th>1</th>\n",
              "      <td>Accuracy</td>\n",
              "      <td>15.0</td>\n",
              "      <td>0.900820</td>\n",
              "      <td>0.062727</td>\n",
              "      <td>0.8021</td>\n",
              "      <td>0.8452</td>\n",
              "      <td>0.9175</td>\n",
              "      <td>0.95050</td>\n",
              "      <td>0.9792</td>\n",
              "      <td>0.062727</td>\n",
              "    </tr>\n",
              "    <tr>\n",
              "      <th>2</th>\n",
              "      <td>F1</td>\n",
              "      <td>15.0</td>\n",
              "      <td>0.725827</td>\n",
              "      <td>0.216042</td>\n",
              "      <td>0.2185</td>\n",
              "      <td>0.5932</td>\n",
              "      <td>0.7833</td>\n",
              "      <td>0.86915</td>\n",
              "      <td>0.9533</td>\n",
              "      <td>0.216042</td>\n",
              "    </tr>\n",
              "    <tr>\n",
              "      <th>3</th>\n",
              "      <td>ROC_AUC</td>\n",
              "      <td>15.0</td>\n",
              "      <td>0.962860</td>\n",
              "      <td>0.039258</td>\n",
              "      <td>0.8622</td>\n",
              "      <td>0.9530</td>\n",
              "      <td>0.9743</td>\n",
              "      <td>0.98960</td>\n",
              "      <td>0.9982</td>\n",
              "      <td>0.039258</td>\n",
              "    </tr>\n",
              "  </tbody>\n",
              "</table>\n",
              "</div>\n",
              "    <div class=\"colab-df-buttons\">\n",
              "\n",
              "  <div class=\"colab-df-container\">\n",
              "    <button class=\"colab-df-convert\" onclick=\"convertToInteractive('df-c952c61d-f338-4489-a31c-7d32f94d62ee')\"\n",
              "            title=\"Convert this dataframe to an interactive table.\"\n",
              "            style=\"display:none;\">\n",
              "\n",
              "  <svg xmlns=\"http://www.w3.org/2000/svg\" height=\"24px\" viewBox=\"0 -960 960 960\">\n",
              "    <path d=\"M120-120v-720h720v720H120Zm60-500h600v-160H180v160Zm220 220h160v-160H400v160Zm0 220h160v-160H400v160ZM180-400h160v-160H180v160Zm440 0h160v-160H620v160ZM180-180h160v-160H180v160Zm440 0h160v-160H620v160Z\"/>\n",
              "  </svg>\n",
              "    </button>\n",
              "\n",
              "  <style>\n",
              "    .colab-df-container {\n",
              "      display:flex;\n",
              "      gap: 12px;\n",
              "    }\n",
              "\n",
              "    .colab-df-convert {\n",
              "      background-color: #E8F0FE;\n",
              "      border: none;\n",
              "      border-radius: 50%;\n",
              "      cursor: pointer;\n",
              "      display: none;\n",
              "      fill: #1967D2;\n",
              "      height: 32px;\n",
              "      padding: 0 0 0 0;\n",
              "      width: 32px;\n",
              "    }\n",
              "\n",
              "    .colab-df-convert:hover {\n",
              "      background-color: #E2EBFA;\n",
              "      box-shadow: 0px 1px 2px rgba(60, 64, 67, 0.3), 0px 1px 3px 1px rgba(60, 64, 67, 0.15);\n",
              "      fill: #174EA6;\n",
              "    }\n",
              "\n",
              "    .colab-df-buttons div {\n",
              "      margin-bottom: 4px;\n",
              "    }\n",
              "\n",
              "    [theme=dark] .colab-df-convert {\n",
              "      background-color: #3B4455;\n",
              "      fill: #D2E3FC;\n",
              "    }\n",
              "\n",
              "    [theme=dark] .colab-df-convert:hover {\n",
              "      background-color: #434B5C;\n",
              "      box-shadow: 0px 1px 3px 1px rgba(0, 0, 0, 0.15);\n",
              "      filter: drop-shadow(0px 1px 2px rgba(0, 0, 0, 0.3));\n",
              "      fill: #FFFFFF;\n",
              "    }\n",
              "  </style>\n",
              "\n",
              "    <script>\n",
              "      const buttonEl =\n",
              "        document.querySelector('#df-c952c61d-f338-4489-a31c-7d32f94d62ee button.colab-df-convert');\n",
              "      buttonEl.style.display =\n",
              "        google.colab.kernel.accessAllowed ? 'block' : 'none';\n",
              "\n",
              "      async function convertToInteractive(key) {\n",
              "        const element = document.querySelector('#df-c952c61d-f338-4489-a31c-7d32f94d62ee');\n",
              "        const dataTable =\n",
              "          await google.colab.kernel.invokeFunction('convertToInteractive',\n",
              "                                                    [key], {});\n",
              "        if (!dataTable) return;\n",
              "\n",
              "        const docLinkHtml = 'Like what you see? Visit the ' +\n",
              "          '<a target=\"_blank\" href=https://colab.research.google.com/notebooks/data_table.ipynb>data table notebook</a>'\n",
              "          + ' to learn more about interactive tables.';\n",
              "        element.innerHTML = '';\n",
              "        dataTable['output_type'] = 'display_data';\n",
              "        await google.colab.output.renderOutput(dataTable, element);\n",
              "        const docLink = document.createElement('div');\n",
              "        docLink.innerHTML = docLinkHtml;\n",
              "        element.appendChild(docLink);\n",
              "      }\n",
              "    </script>\n",
              "  </div>\n",
              "\n",
              "\n",
              "    <div id=\"df-dc9ffa8d-f759-42df-b05b-8e33382f99fa\">\n",
              "      <button class=\"colab-df-quickchart\" onclick=\"quickchart('df-dc9ffa8d-f759-42df-b05b-8e33382f99fa')\"\n",
              "                title=\"Suggest charts\"\n",
              "                style=\"display:none;\">\n",
              "\n",
              "<svg xmlns=\"http://www.w3.org/2000/svg\" height=\"24px\"viewBox=\"0 0 24 24\"\n",
              "     width=\"24px\">\n",
              "    <g>\n",
              "        <path d=\"M19 3H5c-1.1 0-2 .9-2 2v14c0 1.1.9 2 2 2h14c1.1 0 2-.9 2-2V5c0-1.1-.9-2-2-2zM9 17H7v-7h2v7zm4 0h-2V7h2v10zm4 0h-2v-4h2v4z\"/>\n",
              "    </g>\n",
              "</svg>\n",
              "      </button>\n",
              "\n",
              "<style>\n",
              "  .colab-df-quickchart {\n",
              "      --bg-color: #E8F0FE;\n",
              "      --fill-color: #1967D2;\n",
              "      --hover-bg-color: #E2EBFA;\n",
              "      --hover-fill-color: #174EA6;\n",
              "      --disabled-fill-color: #AAA;\n",
              "      --disabled-bg-color: #DDD;\n",
              "  }\n",
              "\n",
              "  [theme=dark] .colab-df-quickchart {\n",
              "      --bg-color: #3B4455;\n",
              "      --fill-color: #D2E3FC;\n",
              "      --hover-bg-color: #434B5C;\n",
              "      --hover-fill-color: #FFFFFF;\n",
              "      --disabled-bg-color: #3B4455;\n",
              "      --disabled-fill-color: #666;\n",
              "  }\n",
              "\n",
              "  .colab-df-quickchart {\n",
              "    background-color: var(--bg-color);\n",
              "    border: none;\n",
              "    border-radius: 50%;\n",
              "    cursor: pointer;\n",
              "    display: none;\n",
              "    fill: var(--fill-color);\n",
              "    height: 32px;\n",
              "    padding: 0;\n",
              "    width: 32px;\n",
              "  }\n",
              "\n",
              "  .colab-df-quickchart:hover {\n",
              "    background-color: var(--hover-bg-color);\n",
              "    box-shadow: 0 1px 2px rgba(60, 64, 67, 0.3), 0 1px 3px 1px rgba(60, 64, 67, 0.15);\n",
              "    fill: var(--button-hover-fill-color);\n",
              "  }\n",
              "\n",
              "  .colab-df-quickchart-complete:disabled,\n",
              "  .colab-df-quickchart-complete:disabled:hover {\n",
              "    background-color: var(--disabled-bg-color);\n",
              "    fill: var(--disabled-fill-color);\n",
              "    box-shadow: none;\n",
              "  }\n",
              "\n",
              "  .colab-df-spinner {\n",
              "    border: 2px solid var(--fill-color);\n",
              "    border-color: transparent;\n",
              "    border-bottom-color: var(--fill-color);\n",
              "    animation:\n",
              "      spin 1s steps(1) infinite;\n",
              "  }\n",
              "\n",
              "  @keyframes spin {\n",
              "    0% {\n",
              "      border-color: transparent;\n",
              "      border-bottom-color: var(--fill-color);\n",
              "      border-left-color: var(--fill-color);\n",
              "    }\n",
              "    20% {\n",
              "      border-color: transparent;\n",
              "      border-left-color: var(--fill-color);\n",
              "      border-top-color: var(--fill-color);\n",
              "    }\n",
              "    30% {\n",
              "      border-color: transparent;\n",
              "      border-left-color: var(--fill-color);\n",
              "      border-top-color: var(--fill-color);\n",
              "      border-right-color: var(--fill-color);\n",
              "    }\n",
              "    40% {\n",
              "      border-color: transparent;\n",
              "      border-right-color: var(--fill-color);\n",
              "      border-top-color: var(--fill-color);\n",
              "    }\n",
              "    60% {\n",
              "      border-color: transparent;\n",
              "      border-right-color: var(--fill-color);\n",
              "    }\n",
              "    80% {\n",
              "      border-color: transparent;\n",
              "      border-right-color: var(--fill-color);\n",
              "      border-bottom-color: var(--fill-color);\n",
              "    }\n",
              "    90% {\n",
              "      border-color: transparent;\n",
              "      border-bottom-color: var(--fill-color);\n",
              "    }\n",
              "  }\n",
              "</style>\n",
              "\n",
              "      <script>\n",
              "        async function quickchart(key) {\n",
              "          const quickchartButtonEl =\n",
              "            document.querySelector('#' + key + ' button');\n",
              "          quickchartButtonEl.disabled = true;  // To prevent multiple clicks.\n",
              "          quickchartButtonEl.classList.add('colab-df-spinner');\n",
              "          try {\n",
              "            const charts = await google.colab.kernel.invokeFunction(\n",
              "                'suggestCharts', [key], {});\n",
              "          } catch (error) {\n",
              "            console.error('Error during call to suggestCharts:', error);\n",
              "          }\n",
              "          quickchartButtonEl.classList.remove('colab-df-spinner');\n",
              "          quickchartButtonEl.classList.add('colab-df-quickchart-complete');\n",
              "        }\n",
              "        (() => {\n",
              "          let quickchartButtonEl =\n",
              "            document.querySelector('#df-dc9ffa8d-f759-42df-b05b-8e33382f99fa button');\n",
              "          quickchartButtonEl.style.display =\n",
              "            google.colab.kernel.accessAllowed ? 'block' : 'none';\n",
              "        })();\n",
              "      </script>\n",
              "    </div>\n",
              "\n",
              "  <div id=\"id_69fb5d21-9c52-4f53-a84d-9368bb3eaa33\">\n",
              "    <style>\n",
              "      .colab-df-generate {\n",
              "        background-color: #E8F0FE;\n",
              "        border: none;\n",
              "        border-radius: 50%;\n",
              "        cursor: pointer;\n",
              "        display: none;\n",
              "        fill: #1967D2;\n",
              "        height: 32px;\n",
              "        padding: 0 0 0 0;\n",
              "        width: 32px;\n",
              "      }\n",
              "\n",
              "      .colab-df-generate:hover {\n",
              "        background-color: #E2EBFA;\n",
              "        box-shadow: 0px 1px 2px rgba(60, 64, 67, 0.3), 0px 1px 3px 1px rgba(60, 64, 67, 0.15);\n",
              "        fill: #174EA6;\n",
              "      }\n",
              "\n",
              "      [theme=dark] .colab-df-generate {\n",
              "        background-color: #3B4455;\n",
              "        fill: #D2E3FC;\n",
              "      }\n",
              "\n",
              "      [theme=dark] .colab-df-generate:hover {\n",
              "        background-color: #434B5C;\n",
              "        box-shadow: 0px 1px 3px 1px rgba(0, 0, 0, 0.15);\n",
              "        filter: drop-shadow(0px 1px 2px rgba(0, 0, 0, 0.3));\n",
              "        fill: #FFFFFF;\n",
              "      }\n",
              "    </style>\n",
              "    <button class=\"colab-df-generate\" onclick=\"generateWithVariable('t')\"\n",
              "            title=\"Generate code using this dataframe.\"\n",
              "            style=\"display:none;\">\n",
              "\n",
              "  <svg xmlns=\"http://www.w3.org/2000/svg\" height=\"24px\"viewBox=\"0 0 24 24\"\n",
              "       width=\"24px\">\n",
              "    <path d=\"M7,19H8.4L18.45,9,17,7.55,7,17.6ZM5,21V16.75L18.45,3.32a2,2,0,0,1,2.83,0l1.4,1.43a1.91,1.91,0,0,1,.58,1.4,1.91,1.91,0,0,1-.58,1.4L9.25,21ZM18.45,9,17,7.55Zm-12,3A5.31,5.31,0,0,0,4.9,8.1,5.31,5.31,0,0,0,1,6.5,5.31,5.31,0,0,0,4.9,4.9,5.31,5.31,0,0,0,6.5,1,5.31,5.31,0,0,0,8.1,4.9,5.31,5.31,0,0,0,12,6.5,5.46,5.46,0,0,0,6.5,12Z\"/>\n",
              "  </svg>\n",
              "    </button>\n",
              "    <script>\n",
              "      (() => {\n",
              "      const buttonEl =\n",
              "        document.querySelector('#id_69fb5d21-9c52-4f53-a84d-9368bb3eaa33 button.colab-df-generate');\n",
              "      buttonEl.style.display =\n",
              "        google.colab.kernel.accessAllowed ? 'block' : 'none';\n",
              "\n",
              "      buttonEl.onclick = () => {\n",
              "        google.colab.notebook.generateWithVariable('t');\n",
              "      }\n",
              "      })();\n",
              "    </script>\n",
              "  </div>\n",
              "\n",
              "    </div>\n",
              "  </div>\n"
            ],
            "application/vnd.google.colaboratory.intrinsic+json": {
              "type": "dataframe",
              "variable_name": "t",
              "summary": "{\n  \"name\": \"t\",\n  \"rows\": 4,\n  \"fields\": [\n    {\n      \"column\": \"Unnamed: 0\",\n      \"properties\": {\n        \"dtype\": \"string\",\n        \"num_unique_values\": 4,\n        \"samples\": [\n          \"Accuracy\",\n          \"ROC_AUC\",\n          \"Subject\"\n        ],\n        \"semantic_type\": \"\",\n        \"description\": \"\"\n      }\n    },\n    {\n      \"column\": \"count\",\n      \"properties\": {\n        \"dtype\": \"number\",\n        \"std\": 0.0,\n        \"min\": 15.0,\n        \"max\": 15.0,\n        \"num_unique_values\": 1,\n        \"samples\": [\n          15.0\n        ],\n        \"semantic_type\": \"\",\n        \"description\": \"\"\n      }\n    },\n    {\n      \"column\": \"mean\",\n      \"properties\": {\n        \"dtype\": \"number\",\n        \"std\": 4.23627128092444,\n        \"min\": 0.7258266666666666,\n        \"max\": 9.333333333333334,\n        \"num_unique_values\": 4,\n        \"samples\": [\n          0.90082\n        ],\n        \"semantic_type\": \"\",\n        \"description\": \"\"\n      }\n    },\n    {\n      \"column\": \"std\",\n      \"properties\": {\n        \"dtype\": \"number\",\n        \"std\": 2.3880327750321477,\n        \"min\": 0.0392580801510066,\n        \"max\": 4.879500364742666,\n        \"num_unique_values\": 4,\n        \"samples\": [\n          0.0627266883277877\n        ],\n        \"semantic_type\": \"\",\n        \"description\": \"\"\n      }\n    },\n    {\n      \"column\": \"min\",\n      \"properties\": {\n        \"dtype\": \"number\",\n        \"std\": 0.7450864692548554,\n        \"min\": 0.2185,\n        \"max\": 2.0,\n        \"num_unique_values\": 4,\n        \"samples\": [\n          0.8021\n        ],\n        \"semantic_type\": \"\",\n        \"description\": \"\"\n      }\n    },\n    {\n      \"column\": \"25%\",\n      \"properties\": {\n        \"dtype\": \"number\",\n        \"std\": 2.3562618551425896,\n        \"min\": 0.5932,\n        \"max\": 5.5,\n        \"num_unique_values\": 4,\n        \"samples\": [\n          0.8452\n        ],\n        \"semantic_type\": \"\",\n        \"description\": \"\"\n      }\n    },\n    {\n      \"column\": \"50%\",\n      \"properties\": {\n        \"dtype\": \"number\",\n        \"std\": 4.054940839169748,\n        \"min\": 0.7833,\n        \"max\": 9.0,\n        \"num_unique_values\": 4,\n        \"samples\": [\n          0.9175\n        ],\n        \"semantic_type\": \"\",\n        \"description\": \"\"\n      }\n    },\n    {\n      \"column\": \"75%\",\n      \"properties\": {\n        \"dtype\": \"number\",\n        \"std\": 6.2819920206326,\n        \"min\": 0.8691500000000001,\n        \"max\": 13.5,\n        \"num_unique_values\": 4,\n        \"samples\": [\n          0.9505\n        ],\n        \"semantic_type\": \"\",\n        \"description\": \"\"\n      }\n    },\n    {\n      \"column\": \"max\",\n      \"properties\": {\n        \"dtype\": \"number\",\n        \"std\": 8.011571134875274,\n        \"min\": 0.9533,\n        \"max\": 17.0,\n        \"num_unique_values\": 4,\n        \"samples\": [\n          0.9792\n        ],\n        \"semantic_type\": \"\",\n        \"description\": \"\"\n      }\n    },\n    {\n      \"column\": \"std_dev\",\n      \"properties\": {\n        \"dtype\": \"number\",\n        \"std\": 2.3880327750321477,\n        \"min\": 0.0392580801510066,\n        \"max\": 4.879500364742666,\n        \"num_unique_values\": 4,\n        \"samples\": [\n          0.0627266883277877\n        ],\n        \"semantic_type\": \"\",\n        \"description\": \"\"\n      }\n    }\n  ]\n}"
            }
          },
          "metadata": {},
          "execution_count": 38
        }
      ]
    },
    {
      "cell_type": "code",
      "source": [
        "import pandas as pd\n",
        "import numpy as np\n",
        "from sklearn.model_selection import train_test_split, cross_val_score\n",
        "from sklearn.preprocessing import StandardScaler\n",
        "from sklearn.metrics import accuracy_score, f1_score, roc_auc_score, classification_report, confusion_matrix\n",
        "from sklearn.ensemble import RandomForestClassifier, GradientBoostingClassifier\n",
        "from sklearn.linear_model import LogisticRegression\n",
        "from sklearn.svm import SVC\n",
        "from xgboost import XGBClassifier\n",
        "import matplotlib.pyplot as plt\n",
        "import seaborn as sns\n",
        "%matplotlib inline"
      ],
      "metadata": {
        "id": "bcv9CBFMP6D_"
      },
      "execution_count": null,
      "outputs": []
    },
    {
      "cell_type": "code",
      "source": [
        "X_test.shape"
      ],
      "metadata": {
        "colab": {
          "base_uri": "https://localhost:8080/"
        },
        "id": "RUgB34EZT9PE",
        "outputId": "b9c009d7-b463-4b6f-b77a-9dd37dd2137c"
      },
      "execution_count": null,
      "outputs": [
        {
          "output_type": "execute_result",
          "data": {
            "text/plain": [
              "(12688, 29)"
            ]
          },
          "metadata": {},
          "execution_count": 20
        }
      ]
    },
    {
      "cell_type": "code",
      "source": [
        "from sklearn.metrics import accuracy_score, f1_score, roc_auc_score\n",
        "\n",
        "# Example: Running models one by one\n",
        "\n",
        "# 1️⃣ Logistic Regression\n",
        "log_reg = LogisticRegression(max_iter=500)\n",
        "log_reg.fit(X_train, y_train)\n",
        "y_pred_lr = log_reg.predict(X_test)\n",
        "y_proba_lr = log_reg.predict_proba(X_test)[:, 1]\n",
        "\n",
        "print(\"Logistic Regression\")\n",
        "print(\"Accuracy:\", accuracy_score(y_test, y_pred_lr))\n",
        "print(\"F1-Score:\", f1_score(y_test, y_pred_lr, average='weighted'))\n",
        "print(\"ROC-AUC:\", roc_auc_score(y_test, y_proba_lr))\n",
        "print(\"=\"*50)"
      ],
      "metadata": {
        "colab": {
          "base_uri": "https://localhost:8080/"
        },
        "id": "h68spa7EgJHh",
        "outputId": "d4cfe435-0d2b-4d5e-d948-377eac503cd2"
      },
      "execution_count": null,
      "outputs": [
        {
          "output_type": "stream",
          "name": "stdout",
          "text": [
            "Logistic Regression\n",
            "Accuracy: 0.8292875157629256\n",
            "F1-Score: 0.7922832031753936\n",
            "ROC-AUC: 0.9233866106514756\n",
            "==================================================\n"
          ]
        }
      ]
    },
    {
      "cell_type": "code",
      "source": [
        " #2️⃣ Random Forest\n",
        "rf = RandomForestClassifier(n_jobs=-1, random_state=42)\n",
        "rf.fit(X_train, y_train)\n",
        "y_pred_rf = rf.predict(X_test)\n",
        "y_proba_rf = rf.predict_proba(X_test)[:, 1]\n",
        "\n",
        "print(\"Random Forest\")\n",
        "print(\"Accuracy:\", accuracy_score(y_test, y_pred_rf))\n",
        "print(\"F1-Score:\", f1_score(y_test, y_pred_rf, average='weighted'))\n",
        "print(\"ROC-AUC:\", roc_auc_score(y_test, y_proba_rf))\n",
        "print(\"=\"*50)\n"
      ],
      "metadata": {
        "colab": {
          "base_uri": "https://localhost:8080/"
        },
        "id": "N7JPc2CygR_s",
        "outputId": "f754933a-b417-4854-c40c-9e8c87fabfba"
      },
      "execution_count": null,
      "outputs": [
        {
          "output_type": "stream",
          "name": "stdout",
          "text": [
            "Random Forest\n",
            "Accuracy: 0.8798076923076923\n",
            "F1-Score: 0.8595138077251963\n",
            "ROC-AUC: 0.9646822456999291\n",
            "==================================================\n"
          ]
        }
      ]
    },
    {
      "cell_type": "code",
      "source": [
        "# 3️⃣ XGBoost\n",
        "xgb = XGBClassifier(n_estimators=300,\n",
        "        max_depth=6,\n",
        "        learning_rate=0.05,\n",
        "        subsample=0.8,\n",
        "        colsample_bytree=0.8,\n",
        "        eval_metric='logloss',\n",
        "        scale_pos_weight=scale_pos_weight)\n",
        "\n",
        "xgb.fit(X_train, y_train)\n",
        "y_pred_xgb = xgb.predict(X_test)\n",
        "y_proba_xgb = xgb.predict_proba(X_test)[:, 1]\n",
        "\n",
        "print(\"XGBoost\")\n",
        "print(\"Accuracy:\", accuracy_score(y_test, y_pred_xgb))\n",
        "print(\"F1-Score:\", f1_score(y_test, y_pred_xgb, average='weighted'))\n",
        "print(\"ROC-AUC:\", roc_auc_score(y_test, y_proba_xgb))\n",
        "print(\"=\"*50)"
      ],
      "metadata": {
        "colab": {
          "base_uri": "https://localhost:8080/"
        },
        "id": "Vwj14ftFgWjz",
        "outputId": "cd9ede44-9229-4a9d-c6d7-9c36f4b9cb73"
      },
      "execution_count": null,
      "outputs": [
        {
          "output_type": "stream",
          "name": "stdout",
          "text": [
            "XGBoost\n",
            "Accuracy: 0.8269230769230769\n",
            "F1-Score: 0.7737939206435679\n",
            "ROC-AUC: 0.9427256942846712\n",
            "==================================================\n"
          ]
        }
      ]
    },
    {
      "cell_type": "code",
      "source": [
        "# --- Define Models to Evaluate ---\n",
        "models = {\n",
        "    \"Logistic Regression\": LogisticRegression(max_iter=1000, random_state=42),\n",
        "    \"Random Forest\": RandomForestClassifier(n_jobs=-1, random_state=42),\n",
        "    \"XGBoost\": XGBClassifier(\n",
        "        n_estimators=300,\n",
        "        max_depth=6,\n",
        "        learning_rate=0.05,\n",
        "        subsample=0.8,\n",
        "        colsample_bytree=0.8,\n",
        "        eval_metric='logloss',\n",
        "        use_label_encoder=False, # To avoid a future warning\n",
        "        random_state=42\n",
        "    )\n",
        "}"
      ],
      "metadata": {
        "id": "CQMpa6H_tbwf"
      },
      "execution_count": null,
      "outputs": []
    },
    {
      "cell_type": "code",
      "source": [
        "# --- Setup for LOSO Cross-Validation ---\n",
        "subjects = df['subject_id'].unique()\n",
        "results = []"
      ],
      "metadata": {
        "id": "F6jJBA4F0Szu"
      },
      "execution_count": null,
      "outputs": []
    },
    {
      "cell_type": "code",
      "source": [
        "# --- Start the LOSO Loop ---\n",
        "for test_sub in sorted(subjects):\n",
        "    print(f\"--- Testing on Subject: {test_sub} ---\")\n",
        "\n",
        "    # 2. Split data into training and testing sets for this fold\n",
        "    train_df = df[df['subject_id'] != test_sub]\n",
        "    test_df = df[df['subject_id'] == test_sub]\n",
        "\n",
        "    X_train = train_df.drop(columns=['tag', 'subject_id'])\n",
        "    y_train = train_df['tag']\n",
        "    X_test = test_df.drop(columns=['tag', 'subject_id'])\n",
        "    y_test = test_df['tag']\n",
        "\n",
        "    # 3. Per-Subject Normalization (Calculated ONLY on the training set)\n",
        "    # This prevents data leakage from the test subject\n",
        "    train_mean = X_train.mean()\n",
        "    train_std = X_train.std()\n",
        "\n",
        "    X_train_norm = (X_train - train_mean) / train_std\n",
        "    X_test_norm = (X_test - train_mean) / train_std\n",
        "\n",
        "    # Handle any potential NaN values that result from zero standard deviation\n",
        "    X_train_norm = X_train_norm.fillna(0)\n",
        "    X_test_norm = X_test_norm.fillna(0)\n",
        "\n",
        "    # Handle Class Imbalance Weight for XGBoost\n",
        "    # This is calculated only on the training data for this fold\n",
        "    scale_pos_weight = (y_train == 0).sum() / (y_train == 1).sum()\n",
        "    models['XGBoost'].set_params(scale_pos_weight=scale_pos_weight)\n",
        "\n",
        "    # 4. Train and evaluate each model for this fold\n",
        "    for model_name, model in models.items():\n",
        "        # Train the model\n",
        "        model.fit(X_train_norm, y_train)\n",
        "\n",
        "        # Make predictions\n",
        "        y_pred = model.predict(X_test_norm)\n",
        "        y_prob = model.predict_proba(X_test_norm)[:, 1]\n",
        "\n",
        "        # Calculate metrics\n",
        "        acc = accuracy_score(y_test, y_pred)\n",
        "        f1 = f1_score(y_test, y_pred, zero_division=0)\n",
        "        try:\n",
        "            auc = roc_auc_score(y_test, y_prob)\n",
        "        except ValueError:\n",
        "            auc = np.nan # Handle cases where test set has only one class\n",
        "\n",
        "        # Store results\n",
        "        results.append({\n",
        "            'Subject': test_sub,\n",
        "            'Model': model_name,\n",
        "            'Accuracy': acc,\n",
        "            'F1_Score': f1,\n",
        "            'ROC_AUC': auc\n",
        "        })\n",
        "        print(f\"  {model_name}: Accuracy={acc:.4f}, F1={f1:.4f}, AUC={auc:.4f}\")\n",
        "\n",
        "# --- Aggregate and Display Final Results ---\n",
        "results_df = pd.DataFrame(results)\n",
        "\n",
        "print(\"\\n\\n--- Average Performance Across All Subjects (LOSO) ---\")\n",
        "average_results = results_df.groupby('Model')[['Accuracy', 'F1_Score', 'ROC_AUC']].mean()\n",
        "print(average_results.round(4))"
      ],
      "metadata": {
        "colab": {
          "base_uri": "https://localhost:8080/"
        },
        "id": "MJf54uby0Y8U",
        "outputId": "079ecf92-b278-4ed5-a883-18896f180c75"
      },
      "execution_count": null,
      "outputs": [
        {
          "metadata": {
            "tags": null
          },
          "name": "stdout",
          "output_type": "stream",
          "text": [
            "--- Testing on Subject: 2 ---\n",
            "  Logistic Regression: Accuracy=0.7670, F1=0.3576, AUC=0.8518\n",
            "  Random Forest: Accuracy=0.8813, F1=0.6524, AUC=0.9539\n"
          ]
        },
        {
          "metadata": {
            "tags": null
          },
          "name": "stderr",
          "output_type": "stream",
          "text": [
            "/usr/local/lib/python3.11/dist-packages/xgboost/training.py:183: UserWarning: [11:54:33] WARNING: /workspace/src/learner.cc:738: \n",
            "Parameters: { \"use_label_encoder\" } are not used.\n",
            "\n",
            "  bst.update(dtrain, iteration=i, fobj=obj)\n"
          ]
        },
        {
          "metadata": {
            "tags": null
          },
          "name": "stdout",
          "output_type": "stream",
          "text": [
            "  XGBoost: Accuracy=0.9018, F1=0.7401, AUC=0.9695\n",
            "--- Testing on Subject: 3 ---\n",
            "  Logistic Regression: Accuracy=0.8977, F1=0.7480, AUC=0.9617\n",
            "  Random Forest: Accuracy=0.9078, F1=0.7424, AUC=0.9480\n"
          ]
        },
        {
          "metadata": {
            "tags": null
          },
          "name": "stderr",
          "output_type": "stream",
          "text": [
            "/usr/local/lib/python3.11/dist-packages/xgboost/training.py:183: UserWarning: [11:55:39] WARNING: /workspace/src/learner.cc:738: \n",
            "Parameters: { \"use_label_encoder\" } are not used.\n",
            "\n",
            "  bst.update(dtrain, iteration=i, fobj=obj)\n"
          ]
        },
        {
          "metadata": {
            "tags": null
          },
          "name": "stdout",
          "output_type": "stream",
          "text": [
            "  XGBoost: Accuracy=0.9092, F1=0.7858, AUC=0.9638\n",
            "--- Testing on Subject: 4 ---\n",
            "  Logistic Regression: Accuracy=0.9928, F1=0.9826, AUC=0.9992\n",
            "  Random Forest: Accuracy=0.8265, F1=0.3264, AUC=0.9826\n"
          ]
        },
        {
          "metadata": {
            "tags": null
          },
          "name": "stderr",
          "output_type": "stream",
          "text": [
            "/usr/local/lib/python3.11/dist-packages/xgboost/training.py:183: UserWarning: [11:56:45] WARNING: /workspace/src/learner.cc:738: \n",
            "Parameters: { \"use_label_encoder\" } are not used.\n",
            "\n",
            "  bst.update(dtrain, iteration=i, fobj=obj)\n"
          ]
        },
        {
          "metadata": {
            "tags": null
          },
          "name": "stdout",
          "output_type": "stream",
          "text": [
            "  XGBoost: Accuracy=0.8924, F1=0.6696, AUC=0.9885\n",
            "--- Testing on Subject: 5 ---\n",
            "  Logistic Regression: Accuracy=0.9419, F1=0.8354, AUC=0.9941\n",
            "  Random Forest: Accuracy=0.9177, F1=0.7572, AUC=0.9906\n"
          ]
        },
        {
          "metadata": {
            "tags": null
          },
          "name": "stderr",
          "output_type": "stream",
          "text": [
            "/usr/local/lib/python3.11/dist-packages/xgboost/training.py:183: UserWarning: [11:57:55] WARNING: /workspace/src/learner.cc:738: \n",
            "Parameters: { \"use_label_encoder\" } are not used.\n",
            "\n",
            "  bst.update(dtrain, iteration=i, fobj=obj)\n"
          ]
        },
        {
          "metadata": {
            "tags": null
          },
          "name": "stdout",
          "output_type": "stream",
          "text": [
            "  XGBoost: Accuracy=0.9372, F1=0.8236, AUC=0.9907\n",
            "--- Testing on Subject: 6 ---\n",
            "  Logistic Regression: Accuracy=0.8605, F1=0.6513, AUC=0.9201\n",
            "  Random Forest: Accuracy=0.8107, F1=0.4401, AUC=0.9123\n"
          ]
        },
        {
          "metadata": {
            "tags": null
          },
          "name": "stderr",
          "output_type": "stream",
          "text": [
            "/usr/local/lib/python3.11/dist-packages/xgboost/training.py:183: UserWarning: [11:58:58] WARNING: /workspace/src/learner.cc:738: \n",
            "Parameters: { \"use_label_encoder\" } are not used.\n",
            "\n",
            "  bst.update(dtrain, iteration=i, fobj=obj)\n"
          ]
        },
        {
          "metadata": {
            "tags": null
          },
          "name": "stdout",
          "output_type": "stream",
          "text": [
            "  XGBoost: Accuracy=0.8165, F1=0.4667, AUC=0.9167\n",
            "--- Testing on Subject: 7 ---\n",
            "  Logistic Regression: Accuracy=0.9848, F1=0.9640, AUC=0.9897\n",
            "  Random Forest: Accuracy=0.9981, F1=0.9953, AUC=1.0000\n"
          ]
        },
        {
          "metadata": {
            "tags": null
          },
          "name": "stderr",
          "output_type": "stream",
          "text": [
            "/usr/local/lib/python3.11/dist-packages/xgboost/training.py:183: UserWarning: [12:00:03] WARNING: /workspace/src/learner.cc:738: \n",
            "Parameters: { \"use_label_encoder\" } are not used.\n",
            "\n",
            "  bst.update(dtrain, iteration=i, fobj=obj)\n"
          ]
        },
        {
          "metadata": {
            "tags": null
          },
          "name": "stdout",
          "output_type": "stream",
          "text": [
            "  XGBoost: Accuracy=0.9736, F1=0.9370, AUC=0.9976\n",
            "--- Testing on Subject: 8 ---\n",
            "  Logistic Regression: Accuracy=0.8310, F1=0.3825, AUC=0.8768\n",
            "  Random Forest: Accuracy=0.8094, F1=0.3960, AUC=0.8235\n"
          ]
        },
        {
          "metadata": {
            "tags": null
          },
          "name": "stderr",
          "output_type": "stream",
          "text": [
            "/usr/local/lib/python3.11/dist-packages/xgboost/training.py:183: UserWarning: [12:01:12] WARNING: /workspace/src/learner.cc:738: \n",
            "Parameters: { \"use_label_encoder\" } are not used.\n",
            "\n",
            "  bst.update(dtrain, iteration=i, fobj=obj)\n"
          ]
        },
        {
          "metadata": {
            "tags": null
          },
          "name": "stdout",
          "output_type": "stream",
          "text": [
            "  XGBoost: Accuracy=0.8175, F1=0.4895, AUC=0.9044\n",
            "--- Testing on Subject: 9 ---\n",
            "  Logistic Regression: Accuracy=0.8315, F1=0.6521, AUC=0.9193\n",
            "  Random Forest: Accuracy=0.8798, F1=0.5844, AUC=0.9647\n"
          ]
        },
        {
          "metadata": {
            "tags": null
          },
          "name": "stderr",
          "output_type": "stream",
          "text": [
            "/usr/local/lib/python3.11/dist-packages/xgboost/training.py:183: UserWarning: [12:02:19] WARNING: /workspace/src/learner.cc:738: \n",
            "Parameters: { \"use_label_encoder\" } are not used.\n",
            "\n",
            "  bst.update(dtrain, iteration=i, fobj=obj)\n"
          ]
        },
        {
          "metadata": {
            "tags": null
          },
          "name": "stdout",
          "output_type": "stream",
          "text": [
            "  XGBoost: Accuracy=0.8320, F1=0.3020, AUC=0.9602\n",
            "--- Testing on Subject: 10 ---\n",
            "  Logistic Regression: Accuracy=0.9311, F1=0.8339, AUC=0.9877\n",
            "  Random Forest: Accuracy=0.9357, F1=0.8332, AUC=0.9984\n"
          ]
        },
        {
          "metadata": {
            "tags": null
          },
          "name": "stderr",
          "output_type": "stream",
          "text": [
            "/usr/local/lib/python3.11/dist-packages/xgboost/training.py:183: UserWarning: [12:03:26] WARNING: /workspace/src/learner.cc:738: \n",
            "Parameters: { \"use_label_encoder\" } are not used.\n",
            "\n",
            "  bst.update(dtrain, iteration=i, fobj=obj)\n"
          ]
        },
        {
          "output_type": "stream",
          "name": "stdout",
          "text": [
            "  XGBoost: Accuracy=0.8245, F1=0.3625, AUC=0.9974\n",
            "--- Testing on Subject: 11 ---\n",
            "  Logistic Regression: Accuracy=0.9510, F1=0.8902, AUC=0.9843\n",
            "  Random Forest: Accuracy=0.9648, F1=0.9195, AUC=0.9895\n"
          ]
        },
        {
          "output_type": "stream",
          "name": "stderr",
          "text": [
            "/usr/local/lib/python3.11/dist-packages/xgboost/training.py:183: UserWarning: [12:04:32] WARNING: /workspace/src/learner.cc:738: \n",
            "Parameters: { \"use_label_encoder\" } are not used.\n",
            "\n",
            "  bst.update(dtrain, iteration=i, fobj=obj)\n"
          ]
        },
        {
          "output_type": "stream",
          "name": "stdout",
          "text": [
            "  XGBoost: Accuracy=0.9534, F1=0.8910, AUC=0.9849\n",
            "--- Testing on Subject: 13 ---\n",
            "  Logistic Regression: Accuracy=0.8873, F1=0.6534, AUC=0.9438\n",
            "  Random Forest: Accuracy=0.9075, F1=0.7275, AUC=0.9835\n"
          ]
        },
        {
          "output_type": "stream",
          "name": "stderr",
          "text": [
            "/usr/local/lib/python3.11/dist-packages/xgboost/training.py:183: UserWarning: [12:05:38] WARNING: /workspace/src/learner.cc:738: \n",
            "Parameters: { \"use_label_encoder\" } are not used.\n",
            "\n",
            "  bst.update(dtrain, iteration=i, fobj=obj)\n"
          ]
        },
        {
          "output_type": "stream",
          "name": "stdout",
          "text": [
            "  XGBoost: Accuracy=0.9234, F1=0.7904, AUC=0.9778\n",
            "--- Testing on Subject: 14 ---\n",
            "  Logistic Regression: Accuracy=0.7647, F1=0.5234, AUC=0.8277\n",
            "  Random Forest: Accuracy=0.7931, F1=0.5407, AUC=0.8630\n"
          ]
        },
        {
          "output_type": "stream",
          "name": "stderr",
          "text": [
            "/usr/local/lib/python3.11/dist-packages/xgboost/training.py:183: UserWarning: [12:06:44] WARNING: /workspace/src/learner.cc:738: \n",
            "Parameters: { \"use_label_encoder\" } are not used.\n",
            "\n",
            "  bst.update(dtrain, iteration=i, fobj=obj)\n"
          ]
        },
        {
          "output_type": "stream",
          "name": "stdout",
          "text": [
            "  XGBoost: Accuracy=0.8014, F1=0.5811, AUC=0.8669\n",
            "--- Testing on Subject: 15 ---\n",
            "  Logistic Regression: Accuracy=0.9054, F1=0.7952, AUC=0.9380\n",
            "  Random Forest: Accuracy=0.9461, F1=0.8797, AUC=0.9836\n"
          ]
        },
        {
          "output_type": "stream",
          "name": "stderr",
          "text": [
            "/usr/local/lib/python3.11/dist-packages/xgboost/training.py:183: UserWarning: [12:07:48] WARNING: /workspace/src/learner.cc:738: \n",
            "Parameters: { \"use_label_encoder\" } are not used.\n",
            "\n",
            "  bst.update(dtrain, iteration=i, fobj=obj)\n"
          ]
        },
        {
          "output_type": "stream",
          "name": "stdout",
          "text": [
            "  XGBoost: Accuracy=0.9383, F1=0.8462, AUC=0.9829\n",
            "--- Testing on Subject: 16 ---\n",
            "  Logistic Regression: Accuracy=0.9903, F1=0.9767, AUC=0.9996\n",
            "  Random Forest: Accuracy=0.9807, F1=0.9562, AUC=0.9911\n"
          ]
        },
        {
          "output_type": "stream",
          "name": "stderr",
          "text": [
            "/usr/local/lib/python3.11/dist-packages/xgboost/training.py:183: UserWarning: [12:08:55] WARNING: /workspace/src/learner.cc:738: \n",
            "Parameters: { \"use_label_encoder\" } are not used.\n",
            "\n",
            "  bst.update(dtrain, iteration=i, fobj=obj)\n"
          ]
        },
        {
          "output_type": "stream",
          "name": "stdout",
          "text": [
            "  XGBoost: Accuracy=0.9821, F1=0.9594, AUC=0.9817\n",
            "--- Testing on Subject: 17 ---\n",
            "  Logistic Regression: Accuracy=0.9636, F1=0.9239, AUC=0.9828\n",
            "  Random Forest: Accuracy=0.9712, F1=0.9405, AUC=0.9928\n"
          ]
        },
        {
          "output_type": "stream",
          "name": "stderr",
          "text": [
            "/usr/local/lib/python3.11/dist-packages/xgboost/training.py:183: UserWarning: [12:09:59] WARNING: /workspace/src/learner.cc:738: \n",
            "Parameters: { \"use_label_encoder\" } are not used.\n",
            "\n",
            "  bst.update(dtrain, iteration=i, fobj=obj)\n"
          ]
        },
        {
          "output_type": "stream",
          "name": "stdout",
          "text": [
            "  XGBoost: Accuracy=0.9366, F1=0.8776, AUC=0.9973\n",
            "\n",
            "\n",
            "--- Average Performance Across All Subjects (LOSO) ---\n",
            "                     Accuracy  F1_Score  ROC_AUC\n",
            "Model                                           \n",
            "Logistic Regression    0.9001    0.7447   0.9451\n",
            "Random Forest          0.9020    0.7128   0.9585\n",
            "XGBoost                0.8960    0.7015   0.9653\n"
          ]
        }
      ]
    },
    {
      "cell_type": "markdown",
      "source": [
        "##Feature Importance Analysis 🔬"
      ],
      "metadata": {
        "id": "-iSxRRMn8t3S"
      }
    },
    {
      "cell_type": "code",
      "source": [
        "# --- Prepare Data for Final Model Training ---\n",
        "X = df.drop(columns=['tag', 'subject_id'])\n",
        "y = df['tag']"
      ],
      "metadata": {
        "id": "Y4_OoD1E7jbB"
      },
      "execution_count": null,
      "outputs": []
    },
    {
      "cell_type": "code",
      "source": [
        "# --- Per-Subject Normalization on the Entire Dataset ---\n",
        "# We do this to prepare the data for the final model in the same way as during testing\n",
        "X_norm = X.groupby(df['subject_id']).transform(lambda x: (x - x.mean()) / x.std())\n",
        "X_norm = X_norm.fillna(0)"
      ],
      "metadata": {
        "id": "mLVIQZlR0gNr"
      },
      "execution_count": null,
      "outputs": []
    },
    {
      "cell_type": "code",
      "source": [
        "# --- Train the Final Random Forest Model ---\n",
        "# We train it on all the data to get the final feature importances\n",
        "print(\"Training final Random Forest model on all data...\")\n",
        "final_rf_model = RandomForestClassifier(n_jobs=-1, random_state=42)\n",
        "final_rf_model.fit(X_norm, y)\n",
        "print(\"Training complete.\")"
      ],
      "metadata": {
        "colab": {
          "base_uri": "https://localhost:8080/"
        },
        "id": "PjCOUMNd7kml",
        "outputId": "9f926e67-7544-41a1-bf9d-30910268c6ff"
      },
      "execution_count": null,
      "outputs": [
        {
          "output_type": "stream",
          "name": "stdout",
          "text": [
            "Training final Random Forest model on all data...\n",
            "Training complete.\n"
          ]
        }
      ]
    },
    {
      "cell_type": "code",
      "source": [
        "# --- Get and Visualize Feature Importances ---\n",
        "importances = final_rf_model.feature_importances_\n",
        "feature_names = X.columns"
      ],
      "metadata": {
        "id": "3UbTBqtv7o2_"
      },
      "execution_count": null,
      "outputs": []
    },
    {
      "cell_type": "code",
      "source": [
        "# Create a DataFrame for easy plotting\n",
        "feature_importance_df = pd.DataFrame({'feature': feature_names, 'importance': importances})\n",
        "feature_importance_df = feature_importance_df.sort_values(by='importance', ascending=False)"
      ],
      "metadata": {
        "id": "ux4o_3ZK8BeP"
      },
      "execution_count": null,
      "outputs": []
    },
    {
      "cell_type": "code",
      "source": [
        "feature_importance_df.head(15)"
      ],
      "metadata": {
        "colab": {
          "base_uri": "https://localhost:8080/",
          "height": 519
        },
        "id": "2XttDNp58gF7",
        "outputId": "938b0404-43f2-4092-b92f-a7225e5d05bc"
      },
      "execution_count": null,
      "outputs": [
        {
          "output_type": "execute_result",
          "data": {
            "text/plain": [
              "       feature  importance\n",
              "9     EDA_mean    0.117245\n",
              "12     EDA_max    0.105409\n",
              "3          EDA    0.100292\n",
              "20   ACC_X_max    0.071427\n",
              "11     EDA_min    0.070980\n",
              "17  ACC_X_mean    0.058089\n",
              "10     EDA_std    0.046008\n",
              "25  ACC_Z_mean    0.038728\n",
              "18   ACC_X_std    0.035291\n",
              "28   ACC_Z_max    0.031663\n",
              "26   ACC_Z_std    0.031005\n",
              "24   ACC_Y_max    0.029757\n",
              "21  ACC_Y_mean    0.027429\n",
              "15    TEMP_min    0.024841\n",
              "13   TEMP_mean    0.024563"
            ],
            "text/html": [
              "\n",
              "  <div id=\"df-2004ec63-2b14-4c8d-86b1-57264de111c7\" class=\"colab-df-container\">\n",
              "    <div>\n",
              "<style scoped>\n",
              "    .dataframe tbody tr th:only-of-type {\n",
              "        vertical-align: middle;\n",
              "    }\n",
              "\n",
              "    .dataframe tbody tr th {\n",
              "        vertical-align: top;\n",
              "    }\n",
              "\n",
              "    .dataframe thead th {\n",
              "        text-align: right;\n",
              "    }\n",
              "</style>\n",
              "<table border=\"1\" class=\"dataframe\">\n",
              "  <thead>\n",
              "    <tr style=\"text-align: right;\">\n",
              "      <th></th>\n",
              "      <th>feature</th>\n",
              "      <th>importance</th>\n",
              "    </tr>\n",
              "  </thead>\n",
              "  <tbody>\n",
              "    <tr>\n",
              "      <th>9</th>\n",
              "      <td>EDA_mean</td>\n",
              "      <td>0.117245</td>\n",
              "    </tr>\n",
              "    <tr>\n",
              "      <th>12</th>\n",
              "      <td>EDA_max</td>\n",
              "      <td>0.105409</td>\n",
              "    </tr>\n",
              "    <tr>\n",
              "      <th>3</th>\n",
              "      <td>EDA</td>\n",
              "      <td>0.100292</td>\n",
              "    </tr>\n",
              "    <tr>\n",
              "      <th>20</th>\n",
              "      <td>ACC_X_max</td>\n",
              "      <td>0.071427</td>\n",
              "    </tr>\n",
              "    <tr>\n",
              "      <th>11</th>\n",
              "      <td>EDA_min</td>\n",
              "      <td>0.070980</td>\n",
              "    </tr>\n",
              "    <tr>\n",
              "      <th>17</th>\n",
              "      <td>ACC_X_mean</td>\n",
              "      <td>0.058089</td>\n",
              "    </tr>\n",
              "    <tr>\n",
              "      <th>10</th>\n",
              "      <td>EDA_std</td>\n",
              "      <td>0.046008</td>\n",
              "    </tr>\n",
              "    <tr>\n",
              "      <th>25</th>\n",
              "      <td>ACC_Z_mean</td>\n",
              "      <td>0.038728</td>\n",
              "    </tr>\n",
              "    <tr>\n",
              "      <th>18</th>\n",
              "      <td>ACC_X_std</td>\n",
              "      <td>0.035291</td>\n",
              "    </tr>\n",
              "    <tr>\n",
              "      <th>28</th>\n",
              "      <td>ACC_Z_max</td>\n",
              "      <td>0.031663</td>\n",
              "    </tr>\n",
              "    <tr>\n",
              "      <th>26</th>\n",
              "      <td>ACC_Z_std</td>\n",
              "      <td>0.031005</td>\n",
              "    </tr>\n",
              "    <tr>\n",
              "      <th>24</th>\n",
              "      <td>ACC_Y_max</td>\n",
              "      <td>0.029757</td>\n",
              "    </tr>\n",
              "    <tr>\n",
              "      <th>21</th>\n",
              "      <td>ACC_Y_mean</td>\n",
              "      <td>0.027429</td>\n",
              "    </tr>\n",
              "    <tr>\n",
              "      <th>15</th>\n",
              "      <td>TEMP_min</td>\n",
              "      <td>0.024841</td>\n",
              "    </tr>\n",
              "    <tr>\n",
              "      <th>13</th>\n",
              "      <td>TEMP_mean</td>\n",
              "      <td>0.024563</td>\n",
              "    </tr>\n",
              "  </tbody>\n",
              "</table>\n",
              "</div>\n",
              "    <div class=\"colab-df-buttons\">\n",
              "\n",
              "  <div class=\"colab-df-container\">\n",
              "    <button class=\"colab-df-convert\" onclick=\"convertToInteractive('df-2004ec63-2b14-4c8d-86b1-57264de111c7')\"\n",
              "            title=\"Convert this dataframe to an interactive table.\"\n",
              "            style=\"display:none;\">\n",
              "\n",
              "  <svg xmlns=\"http://www.w3.org/2000/svg\" height=\"24px\" viewBox=\"0 -960 960 960\">\n",
              "    <path d=\"M120-120v-720h720v720H120Zm60-500h600v-160H180v160Zm220 220h160v-160H400v160Zm0 220h160v-160H400v160ZM180-400h160v-160H180v160Zm440 0h160v-160H620v160ZM180-180h160v-160H180v160Zm440 0h160v-160H620v160Z\"/>\n",
              "  </svg>\n",
              "    </button>\n",
              "\n",
              "  <style>\n",
              "    .colab-df-container {\n",
              "      display:flex;\n",
              "      gap: 12px;\n",
              "    }\n",
              "\n",
              "    .colab-df-convert {\n",
              "      background-color: #E8F0FE;\n",
              "      border: none;\n",
              "      border-radius: 50%;\n",
              "      cursor: pointer;\n",
              "      display: none;\n",
              "      fill: #1967D2;\n",
              "      height: 32px;\n",
              "      padding: 0 0 0 0;\n",
              "      width: 32px;\n",
              "    }\n",
              "\n",
              "    .colab-df-convert:hover {\n",
              "      background-color: #E2EBFA;\n",
              "      box-shadow: 0px 1px 2px rgba(60, 64, 67, 0.3), 0px 1px 3px 1px rgba(60, 64, 67, 0.15);\n",
              "      fill: #174EA6;\n",
              "    }\n",
              "\n",
              "    .colab-df-buttons div {\n",
              "      margin-bottom: 4px;\n",
              "    }\n",
              "\n",
              "    [theme=dark] .colab-df-convert {\n",
              "      background-color: #3B4455;\n",
              "      fill: #D2E3FC;\n",
              "    }\n",
              "\n",
              "    [theme=dark] .colab-df-convert:hover {\n",
              "      background-color: #434B5C;\n",
              "      box-shadow: 0px 1px 3px 1px rgba(0, 0, 0, 0.15);\n",
              "      filter: drop-shadow(0px 1px 2px rgba(0, 0, 0, 0.3));\n",
              "      fill: #FFFFFF;\n",
              "    }\n",
              "  </style>\n",
              "\n",
              "    <script>\n",
              "      const buttonEl =\n",
              "        document.querySelector('#df-2004ec63-2b14-4c8d-86b1-57264de111c7 button.colab-df-convert');\n",
              "      buttonEl.style.display =\n",
              "        google.colab.kernel.accessAllowed ? 'block' : 'none';\n",
              "\n",
              "      async function convertToInteractive(key) {\n",
              "        const element = document.querySelector('#df-2004ec63-2b14-4c8d-86b1-57264de111c7');\n",
              "        const dataTable =\n",
              "          await google.colab.kernel.invokeFunction('convertToInteractive',\n",
              "                                                    [key], {});\n",
              "        if (!dataTable) return;\n",
              "\n",
              "        const docLinkHtml = 'Like what you see? Visit the ' +\n",
              "          '<a target=\"_blank\" href=https://colab.research.google.com/notebooks/data_table.ipynb>data table notebook</a>'\n",
              "          + ' to learn more about interactive tables.';\n",
              "        element.innerHTML = '';\n",
              "        dataTable['output_type'] = 'display_data';\n",
              "        await google.colab.output.renderOutput(dataTable, element);\n",
              "        const docLink = document.createElement('div');\n",
              "        docLink.innerHTML = docLinkHtml;\n",
              "        element.appendChild(docLink);\n",
              "      }\n",
              "    </script>\n",
              "  </div>\n",
              "\n",
              "\n",
              "    <div id=\"df-4acd1708-a022-4854-aaab-f3a31569e0a4\">\n",
              "      <button class=\"colab-df-quickchart\" onclick=\"quickchart('df-4acd1708-a022-4854-aaab-f3a31569e0a4')\"\n",
              "                title=\"Suggest charts\"\n",
              "                style=\"display:none;\">\n",
              "\n",
              "<svg xmlns=\"http://www.w3.org/2000/svg\" height=\"24px\"viewBox=\"0 0 24 24\"\n",
              "     width=\"24px\">\n",
              "    <g>\n",
              "        <path d=\"M19 3H5c-1.1 0-2 .9-2 2v14c0 1.1.9 2 2 2h14c1.1 0 2-.9 2-2V5c0-1.1-.9-2-2-2zM9 17H7v-7h2v7zm4 0h-2V7h2v10zm4 0h-2v-4h2v4z\"/>\n",
              "    </g>\n",
              "</svg>\n",
              "      </button>\n",
              "\n",
              "<style>\n",
              "  .colab-df-quickchart {\n",
              "      --bg-color: #E8F0FE;\n",
              "      --fill-color: #1967D2;\n",
              "      --hover-bg-color: #E2EBFA;\n",
              "      --hover-fill-color: #174EA6;\n",
              "      --disabled-fill-color: #AAA;\n",
              "      --disabled-bg-color: #DDD;\n",
              "  }\n",
              "\n",
              "  [theme=dark] .colab-df-quickchart {\n",
              "      --bg-color: #3B4455;\n",
              "      --fill-color: #D2E3FC;\n",
              "      --hover-bg-color: #434B5C;\n",
              "      --hover-fill-color: #FFFFFF;\n",
              "      --disabled-bg-color: #3B4455;\n",
              "      --disabled-fill-color: #666;\n",
              "  }\n",
              "\n",
              "  .colab-df-quickchart {\n",
              "    background-color: var(--bg-color);\n",
              "    border: none;\n",
              "    border-radius: 50%;\n",
              "    cursor: pointer;\n",
              "    display: none;\n",
              "    fill: var(--fill-color);\n",
              "    height: 32px;\n",
              "    padding: 0;\n",
              "    width: 32px;\n",
              "  }\n",
              "\n",
              "  .colab-df-quickchart:hover {\n",
              "    background-color: var(--hover-bg-color);\n",
              "    box-shadow: 0 1px 2px rgba(60, 64, 67, 0.3), 0 1px 3px 1px rgba(60, 64, 67, 0.15);\n",
              "    fill: var(--button-hover-fill-color);\n",
              "  }\n",
              "\n",
              "  .colab-df-quickchart-complete:disabled,\n",
              "  .colab-df-quickchart-complete:disabled:hover {\n",
              "    background-color: var(--disabled-bg-color);\n",
              "    fill: var(--disabled-fill-color);\n",
              "    box-shadow: none;\n",
              "  }\n",
              "\n",
              "  .colab-df-spinner {\n",
              "    border: 2px solid var(--fill-color);\n",
              "    border-color: transparent;\n",
              "    border-bottom-color: var(--fill-color);\n",
              "    animation:\n",
              "      spin 1s steps(1) infinite;\n",
              "  }\n",
              "\n",
              "  @keyframes spin {\n",
              "    0% {\n",
              "      border-color: transparent;\n",
              "      border-bottom-color: var(--fill-color);\n",
              "      border-left-color: var(--fill-color);\n",
              "    }\n",
              "    20% {\n",
              "      border-color: transparent;\n",
              "      border-left-color: var(--fill-color);\n",
              "      border-top-color: var(--fill-color);\n",
              "    }\n",
              "    30% {\n",
              "      border-color: transparent;\n",
              "      border-left-color: var(--fill-color);\n",
              "      border-top-color: var(--fill-color);\n",
              "      border-right-color: var(--fill-color);\n",
              "    }\n",
              "    40% {\n",
              "      border-color: transparent;\n",
              "      border-right-color: var(--fill-color);\n",
              "      border-top-color: var(--fill-color);\n",
              "    }\n",
              "    60% {\n",
              "      border-color: transparent;\n",
              "      border-right-color: var(--fill-color);\n",
              "    }\n",
              "    80% {\n",
              "      border-color: transparent;\n",
              "      border-right-color: var(--fill-color);\n",
              "      border-bottom-color: var(--fill-color);\n",
              "    }\n",
              "    90% {\n",
              "      border-color: transparent;\n",
              "      border-bottom-color: var(--fill-color);\n",
              "    }\n",
              "  }\n",
              "</style>\n",
              "\n",
              "      <script>\n",
              "        async function quickchart(key) {\n",
              "          const quickchartButtonEl =\n",
              "            document.querySelector('#' + key + ' button');\n",
              "          quickchartButtonEl.disabled = true;  // To prevent multiple clicks.\n",
              "          quickchartButtonEl.classList.add('colab-df-spinner');\n",
              "          try {\n",
              "            const charts = await google.colab.kernel.invokeFunction(\n",
              "                'suggestCharts', [key], {});\n",
              "          } catch (error) {\n",
              "            console.error('Error during call to suggestCharts:', error);\n",
              "          }\n",
              "          quickchartButtonEl.classList.remove('colab-df-spinner');\n",
              "          quickchartButtonEl.classList.add('colab-df-quickchart-complete');\n",
              "        }\n",
              "        (() => {\n",
              "          let quickchartButtonEl =\n",
              "            document.querySelector('#df-4acd1708-a022-4854-aaab-f3a31569e0a4 button');\n",
              "          quickchartButtonEl.style.display =\n",
              "            google.colab.kernel.accessAllowed ? 'block' : 'none';\n",
              "        })();\n",
              "      </script>\n",
              "    </div>\n",
              "\n",
              "    </div>\n",
              "  </div>\n"
            ],
            "application/vnd.google.colaboratory.intrinsic+json": {
              "type": "dataframe",
              "variable_name": "feature_importance_df",
              "summary": "{\n  \"name\": \"feature_importance_df\",\n  \"rows\": 29,\n  \"fields\": [\n    {\n      \"column\": \"feature\",\n      \"properties\": {\n        \"dtype\": \"string\",\n        \"num_unique_values\": 29,\n        \"samples\": [\n          \"HR\",\n          \"TEMP_max\",\n          \"ACC_Y_mean\"\n        ],\n        \"semantic_type\": \"\",\n        \"description\": \"\"\n      }\n    },\n    {\n      \"column\": \"importance\",\n      \"properties\": {\n        \"dtype\": \"number\",\n        \"std\": 0.030932728631283615,\n        \"min\": 0.002250447323989398,\n        \"max\": 0.11724489143102554,\n        \"num_unique_values\": 29,\n        \"samples\": [\n          0.002794751419691754,\n          0.02204244661472608,\n          0.02742929073570164\n        ],\n        \"semantic_type\": \"\",\n        \"description\": \"\"\n      }\n    }\n  ]\n}"
            }
          },
          "metadata": {},
          "execution_count": 45
        }
      ]
    },
    {
      "cell_type": "code",
      "source": [
        "# --- Plot the Results ---\n",
        "plt.style.use('seaborn-v0_8-whitegrid')\n",
        "plt.figure(figsize=(12, 10))\n",
        "sns.barplot(x='importance', y='feature', data=feature_importance_df.head(15), palette='viridis')\n",
        "plt.title('Top 15 Most Important Features for Stress Detection', fontsize=16)\n",
        "plt.xlabel('Importance', fontsize=12)\n",
        "plt.ylabel('Feature', fontsize=12)\n",
        "plt.tight_layout()\n",
        "plt.show()"
      ],
      "metadata": {
        "colab": {
          "base_uri": "https://localhost:8080/",
          "height": 1000
        },
        "id": "UYDbp09M8GZk",
        "outputId": "d326569e-5516-4317-9a23-e8b53f0f85c0"
      },
      "execution_count": null,
      "outputs": [
        {
          "output_type": "stream",
          "name": "stderr",
          "text": [
            "/tmp/ipython-input-170563424.py:4: FutureWarning: \n",
            "\n",
            "Passing `palette` without assigning `hue` is deprecated and will be removed in v0.14.0. Assign the `y` variable to `hue` and set `legend=False` for the same effect.\n",
            "\n",
            "  sns.barplot(x='importance', y='feature', data=feature_importance_df.head(15), palette='viridis')\n"
          ]
        },
        {
          "output_type": "display_data",
          "data": {
            "text/plain": [
              "<Figure size 1200x1000 with 1 Axes>"
            ],
            "image/png": "[encoded data removed]"
          },
          "metadata": {}
        }
      ]
    },
    {
      "cell_type": "markdown",
      "source": [
        "##Error Analysis with a Confusion Matrix"
      ],
      "metadata": {
        "id": "2awd7YAG821q"
      }
    },
    {
      "cell_type": "code",
      "source": [
        "subjects = df['subject_id'].unique()\n",
        "# We will add up the confusion matrix from each subject\n",
        "total_cm = np.zeros((2, 2))"
      ],
      "metadata": {
        "id": "z8AVoAd18LeT"
      },
      "execution_count": null,
      "outputs": []
    },
    {
      "cell_type": "code",
      "source": [
        "# We will add up the confusion matrix from each subject\n",
        "total_cm = np.zeros((2, 2))\n",
        "\n",
        "print(\"Running LOSO for Random Forest to generate confusion matrix...\")\n",
        "# --- Start the LOSO Loop ---\n",
        "for test_sub in sorted(subjects):\n",
        "    # Split data\n",
        "    train_df = df[df['subject_id'] != test_sub]\n",
        "    test_df = df[df['subject_id'] == test_sub]\n",
        "\n",
        "    X_train = train_df.drop(columns=['tag', 'subject_id'])\n",
        "    y_train = train_df['tag']\n",
        "    X_test = test_df.drop(columns=['tag', 'subject_id'])\n",
        "    y_test = test_df['tag']\n",
        "\n",
        "    # Per-Subject Normalization\n",
        "    train_mean = X_train.mean()\n",
        "    train_std = X_train.std()\n",
        "    X_train_norm = (X_train - train_mean) / train_std\n",
        "    X_test_norm = (X_test - train_mean) / train_std\n",
        "    X_train_norm = X_train_norm.fillna(0)\n",
        "    X_test_norm = X_test_norm.fillna(0)\n",
        "\n",
        "    # Initialize and train the model\n",
        "    model = RandomForestClassifier(n_jobs=-1, random_state=42)\n",
        "    model.fit(X_train_norm, y_train)\n",
        "\n",
        "    # Predictions and accumulate confusion matrix\n",
        "    y_pred = model.predict(X_test_norm)\n",
        "    cm = confusion_matrix(y_test, y_pred)\n",
        "\n",
        "    # Make sure the cm is 2x2, pad with zeros if a class was never predicted\n",
        "    if cm.shape == (1, 1):\n",
        "        if y_test.iloc[0] == 0:\n",
        "            cm = np.array([[cm[0][0], 0], [0, 0]]) # True Negative only\n",
        "        else:\n",
        "            cm = np.array([[0, 0], [0, cm[0][0]]]) # True Positive only\n",
        "\n",
        "    total_cm += cm\n",
        "\n",
        "print(\"LOSO complete.\")"
      ],
      "metadata": {
        "colab": {
          "base_uri": "https://localhost:8080/"
        },
        "id": "EO-bBZ2K9Cq7",
        "outputId": "f9db7e1b-2a02-4ed3-ea9e-52ff9688ed8d"
      },
      "execution_count": null,
      "outputs": [
        {
          "output_type": "stream",
          "name": "stdout",
          "text": [
            "Running LOSO for Random Forest to generate confusion matrix...\n",
            "LOSO complete.\n"
          ]
        }
      ]
    },
    {
      "cell_type": "code",
      "source": [
        "# --- Plot the Aggregated Confusion Matrix ---\n",
        "plt.figure(figsize=(8, 6))\n",
        "sns.heatmap(total_cm, annot=True, fmt='.0f', cmap='Blues',\n",
        "            xticklabels=['Predicted Non-Stress', 'Predicted Stress'],\n",
        "            yticklabels=['Actual Non-Stress', 'Actual Stress'])\n",
        "plt.title('Aggregated Confusion Matrix Across All Subjects (LOSO)', fontsize=14)\n",
        "plt.ylabel('Actual Label', fontsize=12)\n",
        "plt.xlabel('Predicted Label', fontsize=12)\n",
        "plt.show()"
      ],
      "metadata": {
        "colab": {
          "base_uri": "https://localhost:8080/",
          "height": 559
        },
        "id": "rWq5XoOc-JzT",
        "outputId": "1855c8b9-ebe0-450d-ff52-8432c8a40be2"
      },
      "execution_count": null,
      "outputs": [
        {
          "output_type": "display_data",
          "data": {
            "text/plain": [
              "<Figure size 800x600 with 2 Axes>"
            ],
            "image/png": "[encoded data removed]"
          },
          "metadata": {}
        }
      ]
    },
    {
      "cell_type": "markdown",
      "source": [
        "True Negatives (Top-Left): 144,585\n",
        "This is the model's greatest strength. It correctly identified 144,585 non-stress moments. This indicates the model is very reliable when it comes to recognizing a person's baseline or neutral state.\n",
        "\n",
        "True Positives (Bottom-Right): 26,322\n",
        "The model successfully identified 26,322 moments of actual stress. This shows it has learned the physiological patterns associated with the stress response.\n",
        "\n",
        "False Positives (Top-Right): 4,995\n",
        "This is a Type I error. The model incorrectly predicted \"Stress\" 4,995 times when the person was actually in a non-stress state. This could lead to unnecessary alerts in a real-world application.\n",
        "\n",
        "False Negatives (Bottom-Left): 13,542\n",
        "This is a Type II error and represents a key area for improvement. The model missed 13,542 actual stress events, classifying them as \"Non-Stress.\" In a health context, missing a stress event (a false negative) is often more critical than a false alarm."
      ],
      "metadata": {
        "id": "KDTwNbbrB8Jh"
      }
    },
    {
      "cell_type": "markdown",
      "source": [
        "## Key Insights 💡\n",
        "High Specificity: The model is excellent at correctly identifying non-stress instances. With only 4,995 false alarms versus 144,585 correct non-stress predictions, it won't frequently bother the user unnecessarily.\n",
        "\n",
        "Moderate Recall (Sensitivity): The model correctly identifies a good portion of stress events (26,322), but it also misses a significant number (13,542). Its ability to \"catch\" stress events is effective but could be improved.\n",
        "\n",
        "Class Imbalance: The matrix clearly shows that there are far more \"Non-Stress\" data points (144,585 + 4,995 = 149,580) than \"Stress\" data points (13,542 + 26,322 = 39,864) in the labeled dataset. This is typical for this type of study and explains why metrics like the F1-score are so important."
      ],
      "metadata": {
        "id": "OFTrRZAqDXmK"
      }
    },
    {
      "cell_type": "markdown",
      "source": [
        "#Subject-Specific Analysis 🧑‍🔬"
      ],
      "metadata": {
        "id": "40qwEScPA9ry"
      }
    },
    {
      "cell_type": "code",
      "source": [
        "# Filter data for one \"easy\" and one \"hard\" subject\n",
        "df_subject_7 = df[df['subject_id'] == 7]\n",
        "df_subject_8 = df[df['subject_id'] == 8]"
      ],
      "metadata": {
        "id": "TDdFymvDA1cx"
      },
      "execution_count": null,
      "outputs": []
    },
    {
      "cell_type": "code",
      "source": [
        "# Create a time axis (assuming 4 Hz sampling rate)\n",
        "df_subject_7['time'] = np.arange(len(df_subject_7)) / 4.0\n",
        "df_subject_8['time'] = np.arange(len(df_subject_8)) / 4.0"
      ],
      "metadata": {
        "colab": {
          "base_uri": "https://localhost:8080/"
        },
        "id": "cszCO9qeBI9I",
        "outputId": "c2c5133a-17e3-4167-dc27-642ebbba864a"
      },
      "execution_count": null,
      "outputs": [
        {
          "output_type": "stream",
          "name": "stderr",
          "text": [
            "/tmp/ipython-input-3374600239.py:2: SettingWithCopyWarning: \n",
            "A value is trying to be set on a copy of a slice from a DataFrame.\n",
            "Try using .loc[row_indexer,col_indexer] = value instead\n",
            "\n",
            "See the caveats in the documentation: https://pandas.pydata.org/pandas-docs/stable/user_guide/indexing.html#returning-a-view-versus-a-copy\n",
            "  df_subject_7['time'] = np.arange(len(df_subject_7)) / 4.0\n",
            "/tmp/ipython-input-3374600239.py:3: SettingWithCopyWarning: \n",
            "A value is trying to be set on a copy of a slice from a DataFrame.\n",
            "Try using .loc[row_indexer,col_indexer] = value instead\n",
            "\n",
            "See the caveats in the documentation: https://pandas.pydata.org/pandas-docs/stable/user_guide/indexing.html#returning-a-view-versus-a-copy\n",
            "  df_subject_8['time'] = np.arange(len(df_subject_8)) / 4.0\n"
          ]
        }
      ]
    },
    {
      "cell_type": "code",
      "source": [
        "# --- Plot EDA signals for comparison ---\n",
        "fig, (ax1, ax2) = plt.subplots(2, 1, figsize=(15, 8), sharex=True)\n",
        "plt.style.use('seaborn-v0_8-whitegrid')\n",
        "\n",
        "# Plot for Subject 7 (Easy)\n",
        "sns.lineplot(data=df_subject_7, x='time', y='EDA', hue='tag', ax=ax1, legend='full', palette='coolwarm')\n",
        "ax1.set_title('Subject 7 (Easy to Classify): EDA Signal Over Time', fontsize=14)\n",
        "ax1.set_ylabel('EDA')\n",
        "ax1.legend(title='State', labels=['Stress', 'Non-Stress'])\n",
        "\n",
        "\n",
        "# Plot for Subject 8 (Hard to Classify)\n",
        "sns.lineplot(data=df_subject_8, x='time', y='EDA', hue='tag', ax=ax2, legend='full', palette='coolwarm')\n",
        "ax2.set_title('Subject 8 (Hard to Classify): EDA Signal Over Time', fontsize=14)\n",
        "ax2.set_xlabel('Time (seconds)')\n",
        "ax2.set_ylabel('EDA')\n",
        "ax2.legend(title='State', labels=['Stress', 'Non-Stress'])\n",
        "\n",
        "plt.tight_layout()\n",
        "plt.show()"
      ],
      "metadata": {
        "colab": {
          "base_uri": "https://localhost:8080/",
          "height": 807
        },
        "id": "TGIM91wBBKTi",
        "outputId": "8b5b119e-603c-462d-e75a-b5df17a0a796"
      },
      "execution_count": null,
      "outputs": [
        {
          "output_type": "display_data",
          "data": {
            "text/plain": [
              "<Figure size 1500x800 with 2 Axes>"
            ],
            "image/png": "[encoded data removed]"
          },
          "metadata": {}
        }
      ]
    },
    {
      "cell_type": "markdown",
      "source": [
        "## Subject 7 (Easy to Classify)\n",
        "Clear Separation: For Subject 7, there is a very distinct and obvious difference between the \"Non-Stress\" and \"Stress\" periods. The Electrodermal Activity (EDA) signal remains low and stable during the non-stress phase and then shows a clear, sustained rise during the stress phase.\n",
        "\n",
        "Low Noise: The signal is relatively clean with minimal random fluctuations.\n",
        "\n",
        "Why it's easy: A machine learning model can easily learn a rule like: \"If the EDA level for Subject 7 rises sharply and stays above a certain threshold (e.g., 1.0), it's a stress state.\" The pattern is strong and unambiguous.\n",
        "\n",
        "## Subject 8 (Hard to Classify)\n",
        "Noisy Signal: The EDA signal for Subject 8 is much more volatile and \"noisy\" throughout the entire experiment, with many peaks and troughs even during the non-stress period.\n",
        "\n",
        "Overlapping States: Unlike Subject 7, there is no clear separation between the stress and non-stress states. The EDA values during the stress period significantly overlap with values seen during the non-stress period. For example, the EDA level is quite high at the very beginning of the experiment (non-stress) and in the middle.\n",
        "\n",
        "Why it's hard: The model struggles to find a simple, reliable rule. A high EDA value doesn't automatically mean stress for this person. The model has to learn a much more subtle and complex pattern, which makes it more prone to errors (false positives and false negatives). This inherent ambiguity in the physiological response is why the model's F1-score and accuracy were lower for this subject"
      ],
      "metadata": {
        "id": "wVHCu0LBC7x6"
      }
    },
    {
      "cell_type": "markdown",
      "source": [
        "This analysis confirms that individual physiological differences are a major factor in model performance. Your model performs well on average because it has learned the general patterns of stress, but its accuracy will always vary from person to person depending on how clearly their body expresses these physiological signals"
      ],
      "metadata": {
        "id": "AXLEqzovC-Pw"
      }
    },
    {
      "cell_type": "markdown",
      "source": [
        "# Hyperparameter Tuning with GridSearchCV"
      ],
      "metadata": {
        "id": "48ImWQKREWnO"
      }
    },
    {
      "cell_type": "code",
      "source": [
        "from sklearn.ensemble import RandomForestClassifier\n",
        "from sklearn.model_selection import RandomizedSearchCV, LeaveOneGroupOut\n",
        "import warnings\n",
        "import pandas as pd\n",
        "import numpy as np\n",
        "import matplotlib.pyplot as plt\n",
        "import seaborn as sns\n",
        "warnings.filterwarnings('ignore')"
      ],
      "metadata": {
        "id": "yNJqTSwAEqKl"
      },
      "execution_count": null,
      "outputs": []
    },
    {
      "cell_type": "code",
      "source": [
        "df = pd.read_csv(\"/content/drive/MyDrive/wesad_enhanced.csv\")"
      ],
      "metadata": {
        "id": "AlFzYSi2HhsQ"
      },
      "execution_count": null,
      "outputs": []
    },
    {
      "cell_type": "code",
      "source": [
        "# --- Prepare Data ---\n",
        "X = df.drop(columns=['tag', 'subject_id'])\n",
        "y = df['tag']\n",
        "groups = df['subject_id'] # This is used for LOSO cross-validation"
      ],
      "metadata": {
        "id": "hrXybiM7C9RT"
      },
      "execution_count": null,
      "outputs": []
    },
    {
      "cell_type": "code",
      "source": [
        "print(\"Performing per-subject normalization...\")\n",
        "X_norm = X.groupby(groups).transform(lambda x: (x - x.mean()) / x.std())\n",
        "X_norm = X_norm.fillna(0)\n",
        "print(\"Normalization complete.\")"
      ],
      "metadata": {
        "colab": {
          "base_uri": "https://localhost:8080/"
        },
        "id": "M_f7QrWKEt6A",
        "outputId": "1f076f5c-c06f-422c-bb8e-203c7f79abe1"
      },
      "execution_count": null,
      "outputs": [
        {
          "output_type": "stream",
          "name": "stdout",
          "text": [
            "Performing per-subject normalization...\n",
            "Normalization complete.\n"
          ]
        }
      ]
    },
    {
      "cell_type": "code",
      "source": [
        "from scipy.stats import randint"
      ],
      "metadata": {
        "id": "xkXZbb7xSAnl"
      },
      "execution_count": null,
      "outputs": []
    },
    {
      "cell_type": "code",
      "source": [
        "print(\"Performing per-subject normalization...\")\n",
        "X_norm = X.groupby(groups).transform(lambda x: (x - x.mean()) / x.std())\n",
        "X_norm = X_norm.fillna(0)\n",
        "print(\"Normalization complete.\")\n",
        "\n",
        "\n",
        "# --- 4. Define the Hyperparameter Grid to Search ---\n",
        "# --- Define the Hyperparameter Distribution to Sample From ---\n",
        "param_dist = {\n",
        "    'n_estimators': randint(100, 300),\n",
        "    'max_depth': [10, 20, 30, None],\n",
        "    'min_samples_split': randint(2, 11),\n",
        "    'min_samples_leaf': randint(1, 5)\n",
        "}"
      ],
      "metadata": {
        "colab": {
          "base_uri": "https://localhost:8080/"
        },
        "id": "JQakLTDwEx-4",
        "outputId": "628be974-7fcf-420a-9219-25901d73bdf1"
      },
      "execution_count": null,
      "outputs": [
        {
          "output_type": "stream",
          "name": "stdout",
          "text": [
            "Performing per-subject normalization...\n",
            "Normalization complete.\n"
          ]
        }
      ]
    },
    {
      "cell_type": "code",
      "source": [
        "# --- Set up RandomizedSearchCV with LOSO ---\n",
        "rf = RandomForestClassifier(random_state=42, n_jobs=-1)\n",
        "logo = LeaveOneGroupOut()"
      ],
      "metadata": {
        "id": "fThjhPseSXAH"
      },
      "execution_count": null,
      "outputs": []
    },
    {
      "cell_type": "code",
      "source": [
        "# THE ONLY CHANGE IS HERE: n_iter is now 2\n",
        "random_search = RandomizedSearchCV(\n",
        "    estimator=rf,\n",
        "    param_distributions=param_dist,\n",
        "    n_iter=2,\n",
        "    cv=logo,\n",
        "    scoring='accuracy',\n",
        "    verbose=2,\n",
        "    random_state=42,\n",
        "    n_jobs=-1\n",
        ")\n",
        "\n",
        "\n",
        "print(\"\\nStarting Hyperparameter Tuning (Targeting ~30 minutes)...\")\n",
        "random_search.fit(X_norm, y, groups=groups)\n",
        "print(\"Tuning complete.\")"
      ],
      "metadata": {
        "colab": {
          "base_uri": "https://localhost:8080/"
        },
        "id": "LXnVWDUYRWty",
        "outputId": "8e41708e-24cf-48bb-bdb6-2c6677511d93"
      },
      "execution_count": null,
      "outputs": [
        {
          "output_type": "stream",
          "name": "stdout",
          "text": [
            "\n",
            "Starting Hyperparameter Tuning (Targeting ~30 minutes)...\n",
            "Fitting 15 folds for each of 2 candidates, totalling 30 fits\n",
            "Tuning complete.\n"
          ]
        }
      ]
    },
    {
      "cell_type": "code",
      "source": [
        "# --- Display the Best Parameters Found ---\n",
        "print(\"\\n--- Best Hyperparameters Found ---\")\n",
        "print(random_search.best_params_)\n",
        "\n",
        "print(\"\\n--- Best Cross-Validation Accuracy ---\")\n",
        "print(f\"The best accuracy achieved during the random search was: {random_search.best_score_:.4f}\")"
      ],
      "metadata": {
        "colab": {
          "base_uri": "https://localhost:8080/"
        },
        "id": "eJ3BvRZZRSF4",
        "outputId": "488f83e6-7e7d-41e4-a864-4c852f7e5ea5"
      },
      "execution_count": null,
      "outputs": [
        {
          "output_type": "stream",
          "name": "stdout",
          "text": [
            "\n",
            "--- Best Hyperparameters Found ---\n",
            "{'max_depth': 10, 'min_samples_leaf': 3, 'min_samples_split': 4, 'n_estimators': 174}\n",
            "\n",
            "--- Best Cross-Validation Accuracy ---\n",
            "The best accuracy achieved during the random search was: 0.9211\n"
          ]
        }
      ]
    },
    {
      "cell_type": "markdown",
      "source": [
        "Significant Performance Boost: The best accuracy achieved was 92.11%. This is a solid improvement over the untuned Random Forest model's accuracy (which was 90.20%). The tuning process was definitely worthwhile, as it found a model configuration that is approximately 2% more accurate at generalizing to new subjects.\n",
        "\n",
        "Optimal Model Configuration: The best hyperparameters found suggest a well-balanced and robust model:\n",
        "\n",
        "'max_depth': 10: The model performs best with trees that are limited in depth. This is a great sign, as it prevents the model from becoming overly complex and helps it avoid overfitting.\n",
        "\n",
        "'min_samples_leaf': 3 and 'min_samples_split': 4: These parameters act as a healthy form of regularization. They stop the model from making decisions based on very small or potentially noisy groups of data, making it more stable.\n",
        "\n",
        "'n_estimators': 174: The search found that 174 trees in the forest provide the best trade-off between performance and complexity."
      ],
      "metadata": {
        "id": "n6hfQS8wiita"
      }
    },
    {
      "cell_type": "markdown",
      "source": [
        "Excellent! The hyperparameter tuning has successfully completed. These results are very positive and give you a clear path to building your final, optimized model.\n",
        "\n",
        "## Analysis of the Results\n",
        "Here's what these results tell you:\n",
        "\n",
        "Significant Performance Boost: The best accuracy achieved was 92.11%. This is a solid improvement over the untuned Random Forest model's accuracy (which was 90.20%). The tuning process was definitely worthwhile, as it found a model configuration that is approximately 2% more accurate at generalizing to new subjects.\n",
        "\n",
        "Optimal Model Configuration: The best hyperparameters found suggest a well-balanced and robust model:\n",
        "\n",
        "'max_depth': 10: The model performs best with trees that are limited in depth. This is a great sign, as it prevents the model from becoming overly complex and helps it avoid overfitting.\n",
        "\n",
        "'min_samples_leaf': 3 and 'min_samples_split': 4: These parameters act as a healthy form of regularization. They stop the model from making decisions based on very small or potentially noisy groups of data, making it more stable.\n",
        "\n",
        "'n_estimators': 174: The search found that 174 trees in the forest provide the best trade-off between performance and complexity."
      ],
      "metadata": {
        "id": "EuV66iRGirrN"
      }
    },
    {
      "cell_type": "markdown",
      "source": [
        "## Final Step: Train Your Best Model 🚀\n",
        "Your final step is to train one last Random Forest model using these optimal parameters on the entire dataset. This final model is your finished product—the one you would save and use for any future predictions."
      ],
      "metadata": {
        "id": "gQ0ejwMUi6yq"
      }
    },
    {
      "cell_type": "code",
      "source": [
        "import pandas as pd\n",
        "from sklearn.ensemble import RandomForestClassifier\n",
        "import joblib # For saving the model"
      ],
      "metadata": {
        "id": "_tgO5dDHiApA"
      },
      "execution_count": null,
      "outputs": []
    },
    {
      "cell_type": "code",
      "source": [
        "# --- Initialize the Model with the Best Parameters Found ---\n",
        "best_params = {\n",
        "    'max_depth': 10,\n",
        "    'min_samples_leaf': 3,\n",
        "    'min_samples_split': 4,\n",
        "    'n_estimators': 174,\n",
        "    'random_state': 42,\n",
        "    'n_jobs': -1\n",
        "}\n",
        "\n",
        "final_model = RandomForestClassifier(**best_params)"
      ],
      "metadata": {
        "id": "-1OsP83KjASa"
      },
      "execution_count": null,
      "outputs": []
    },
    {
      "cell_type": "code",
      "source": [
        "final_model"
      ],
      "metadata": {
        "colab": {
          "base_uri": "https://localhost:8080/",
          "height": 97
        },
        "id": "9QdzeCA9jOGe",
        "outputId": "a4aba1ad-2d7d-4d5c-a8dc-a5d42bcd89f2"
      },
      "execution_count": null,
      "outputs": [
        {
          "output_type": "execute_result",
          "data": {
            "text/plain": [
              "RandomForestClassifier(max_depth=10, min_samples_leaf=3, min_samples_split=4,\n",
              "                       n_estimators=174, n_jobs=-1, random_state=42)"
            ],
            "text/html": [
              "<style>#sk-container-id-1 {\n",
              "  /* Definition of color scheme common for light and dark mode */\n",
              "  --sklearn-color-text: #000;\n",
              "  --sklearn-color-text-muted: #666;\n",
              "  --sklearn-color-line: gray;\n",
              "  /* Definition of color scheme for unfitted estimators */\n",
              "  --sklearn-color-unfitted-level-0: #fff5e6;\n",
              "  --sklearn-color-unfitted-level-1: #f6e4d2;\n",
              "  --sklearn-color-unfitted-level-2: #ffe0b3;\n",
              "  --sklearn-color-unfitted-level-3: chocolate;\n",
              "  /* Definition of color scheme for fitted estimators */\n",
              "  --sklearn-color-fitted-level-0: #f0f8ff;\n",
              "  --sklearn-color-fitted-level-1: #d4ebff;\n",
              "  --sklearn-color-fitted-level-2: #b3dbfd;\n",
              "  --sklearn-color-fitted-level-3: cornflowerblue;\n",
              "\n",
              "  /* Specific color for light theme */\n",
              "  --sklearn-color-text-on-default-background: var(--sg-text-color, var(--theme-code-foreground, var(--jp-content-font-color1, black)));\n",
              "  --sklearn-color-background: var(--sg-background-color, var(--theme-background, var(--jp-layout-color0, white)));\n",
              "  --sklearn-color-border-box: var(--sg-text-color, var(--theme-code-foreground, var(--jp-content-font-color1, black)));\n",
              "  --sklearn-color-icon: #696969;\n",
              "\n",
              "  @media (prefers-color-scheme: dark) {\n",
              "    /* Redefinition of color scheme for dark theme */\n",
              "    --sklearn-color-text-on-default-background: var(--sg-text-color, var(--theme-code-foreground, var(--jp-content-font-color1, white)));\n",
              "    --sklearn-color-background: var(--sg-background-color, var(--theme-background, var(--jp-layout-color0, #111)));\n",
              "    --sklearn-color-border-box: var(--sg-text-color, var(--theme-code-foreground, var(--jp-content-font-color1, white)));\n",
              "    --sklearn-color-icon: #878787;\n",
              "  }\n",
              "}\n",
              "\n",
              "#sk-container-id-1 {\n",
              "  color: var(--sklearn-color-text);\n",
              "}\n",
              "\n",
              "#sk-container-id-1 pre {\n",
              "  padding: 0;\n",
              "}\n",
              "\n",
              "#sk-container-id-1 input.sk-hidden--visually {\n",
              "  border: 0;\n",
              "  clip: rect(1px 1px 1px 1px);\n",
              "  clip: rect(1px, 1px, 1px, 1px);\n",
              "  height: 1px;\n",
              "  margin: -1px;\n",
              "  overflow: hidden;\n",
              "  padding: 0;\n",
              "  position: absolute;\n",
              "  width: 1px;\n",
              "}\n",
              "\n",
              "#sk-container-id-1 div.sk-dashed-wrapped {\n",
              "  border: 1px dashed var(--sklearn-color-line);\n",
              "  margin: 0 0.4em 0.5em 0.4em;\n",
              "  box-sizing: border-box;\n",
              "  padding-bottom: 0.4em;\n",
              "  background-color: var(--sklearn-color-background);\n",
              "}\n",
              "\n",
              "#sk-container-id-1 div.sk-container {\n",
              "  /* jupyter's `normalize.less` sets `[hidden] { display: none; }`\n",
              "     but bootstrap.min.css set `[hidden] { display: none !important; }`\n",
              "     so we also need the `!important` here to be able to override the\n",
              "     default hidden behavior on the sphinx rendered scikit-learn.org.\n",
              "     See: https://github.com/scikit-learn/scikit-learn/issues/21755 */\n",
              "  display: inline-block !important;\n",
              "  position: relative;\n",
              "}\n",
              "\n",
              "#sk-container-id-1 div.sk-text-repr-fallback {\n",
              "  display: none;\n",
              "}\n",
              "\n",
              "div.sk-parallel-item,\n",
              "div.sk-serial,\n",
              "div.sk-item {\n",
              "  /* draw centered vertical line to link estimators */\n",
              "  background-image: linear-gradient(var(--sklearn-color-text-on-default-background), var(--sklearn-color-text-on-default-background));\n",
              "  background-size: 2px 100%;\n",
              "  background-repeat: no-repeat;\n",
              "  background-position: center center;\n",
              "}\n",
              "\n",
              "/* Parallel-specific style estimator block */\n",
              "\n",
              "#sk-container-id-1 div.sk-parallel-item::after {\n",
              "  content: \"\";\n",
              "  width: 100%;\n",
              "  border-bottom: 2px solid var(--sklearn-color-text-on-default-background);\n",
              "  flex-grow: 1;\n",
              "}\n",
              "\n",
              "#sk-container-id-1 div.sk-parallel {\n",
              "  display: flex;\n",
              "  align-items: stretch;\n",
              "  justify-content: center;\n",
              "  background-color: var(--sklearn-color-background);\n",
              "  position: relative;\n",
              "}\n",
              "\n",
              "#sk-container-id-1 div.sk-parallel-item {\n",
              "  display: flex;\n",
              "  flex-direction: column;\n",
              "}\n",
              "\n",
              "#sk-container-id-1 div.sk-parallel-item:first-child::after {\n",
              "  align-self: flex-end;\n",
              "  width: 50%;\n",
              "}\n",
              "\n",
              "#sk-container-id-1 div.sk-parallel-item:last-child::after {\n",
              "  align-self: flex-start;\n",
              "  width: 50%;\n",
              "}\n",
              "\n",
              "#sk-container-id-1 div.sk-parallel-item:only-child::after {\n",
              "  width: 0;\n",
              "}\n",
              "\n",
              "/* Serial-specific style estimator block */\n",
              "\n",
              "#sk-container-id-1 div.sk-serial {\n",
              "  display: flex;\n",
              "  flex-direction: column;\n",
              "  align-items: center;\n",
              "  background-color: var(--sklearn-color-background);\n",
              "  padding-right: 1em;\n",
              "  padding-left: 1em;\n",
              "}\n",
              "\n",
              "\n",
              "/* Toggleable style: style used for estimator/Pipeline/ColumnTransformer box that is\n",
              "clickable and can be expanded/collapsed.\n",
              "- Pipeline and ColumnTransformer use this feature and define the default style\n",
              "- Estimators will overwrite some part of the style using the `sk-estimator` class\n",
              "*/\n",
              "\n",
              "/* Pipeline and ColumnTransformer style (default) */\n",
              "\n",
              "#sk-container-id-1 div.sk-toggleable {\n",
              "  /* Default theme specific background. It is overwritten whether we have a\n",
              "  specific estimator or a Pipeline/ColumnTransformer */\n",
              "  background-color: var(--sklearn-color-background);\n",
              "}\n",
              "\n",
              "/* Toggleable label */\n",
              "#sk-container-id-1 label.sk-toggleable__label {\n",
              "  cursor: pointer;\n",
              "  display: flex;\n",
              "  width: 100%;\n",
              "  margin-bottom: 0;\n",
              "  padding: 0.5em;\n",
              "  box-sizing: border-box;\n",
              "  text-align: center;\n",
              "  align-items: start;\n",
              "  justify-content: space-between;\n",
              "  gap: 0.5em;\n",
              "}\n",
              "\n",
              "#sk-container-id-1 label.sk-toggleable__label .caption {\n",
              "  font-size: 0.6rem;\n",
              "  font-weight: lighter;\n",
              "  color: var(--sklearn-color-text-muted);\n",
              "}\n",
              "\n",
              "#sk-container-id-1 label.sk-toggleable__label-arrow:before {\n",
              "  /* Arrow on the left of the label */\n",
              "  content: \"▸\";\n",
              "  float: left;\n",
              "  margin-right: 0.25em;\n",
              "  color: var(--sklearn-color-icon);\n",
              "}\n",
              "\n",
              "#sk-container-id-1 label.sk-toggleable__label-arrow:hover:before {\n",
              "  color: var(--sklearn-color-text);\n",
              "}\n",
              "\n",
              "/* Toggleable content - dropdown */\n",
              "\n",
              "#sk-container-id-1 div.sk-toggleable__content {\n",
              "  max-height: 0;\n",
              "  max-width: 0;\n",
              "  overflow: hidden;\n",
              "  text-align: left;\n",
              "  /* unfitted */\n",
              "  background-color: var(--sklearn-color-unfitted-level-0);\n",
              "}\n",
              "\n",
              "#sk-container-id-1 div.sk-toggleable__content.fitted {\n",
              "  /* fitted */\n",
              "  background-color: var(--sklearn-color-fitted-level-0);\n",
              "}\n",
              "\n",
              "#sk-container-id-1 div.sk-toggleable__content pre {\n",
              "  margin: 0.2em;\n",
              "  border-radius: 0.25em;\n",
              "  color: var(--sklearn-color-text);\n",
              "  /* unfitted */\n",
              "  background-color: var(--sklearn-color-unfitted-level-0);\n",
              "}\n",
              "\n",
              "#sk-container-id-1 div.sk-toggleable__content.fitted pre {\n",
              "  /* unfitted */\n",
              "  background-color: var(--sklearn-color-fitted-level-0);\n",
              "}\n",
              "\n",
              "#sk-container-id-1 input.sk-toggleable__control:checked~div.sk-toggleable__content {\n",
              "  /* Expand drop-down */\n",
              "  max-height: 200px;\n",
              "  max-width: 100%;\n",
              "  overflow: auto;\n",
              "}\n",
              "\n",
              "#sk-container-id-1 input.sk-toggleable__control:checked~label.sk-toggleable__label-arrow:before {\n",
              "  content: \"▾\";\n",
              "}\n",
              "\n",
              "/* Pipeline/ColumnTransformer-specific style */\n",
              "\n",
              "#sk-container-id-1 div.sk-label input.sk-toggleable__control:checked~label.sk-toggleable__label {\n",
              "  color: var(--sklearn-color-text);\n",
              "  background-color: var(--sklearn-color-unfitted-level-2);\n",
              "}\n",
              "\n",
              "#sk-container-id-1 div.sk-label.fitted input.sk-toggleable__control:checked~label.sk-toggleable__label {\n",
              "  background-color: var(--sklearn-color-fitted-level-2);\n",
              "}\n",
              "\n",
              "/* Estimator-specific style */\n",
              "\n",
              "/* Colorize estimator box */\n",
              "#sk-container-id-1 div.sk-estimator input.sk-toggleable__control:checked~label.sk-toggleable__label {\n",
              "  /* unfitted */\n",
              "  background-color: var(--sklearn-color-unfitted-level-2);\n",
              "}\n",
              "\n",
              "#sk-container-id-1 div.sk-estimator.fitted input.sk-toggleable__control:checked~label.sk-toggleable__label {\n",
              "  /* fitted */\n",
              "  background-color: var(--sklearn-color-fitted-level-2);\n",
              "}\n",
              "\n",
              "#sk-container-id-1 div.sk-label label.sk-toggleable__label,\n",
              "#sk-container-id-1 div.sk-label label {\n",
              "  /* The background is the default theme color */\n",
              "  color: var(--sklearn-color-text-on-default-background);\n",
              "}\n",
              "\n",
              "/* On hover, darken the color of the background */\n",
              "#sk-container-id-1 div.sk-label:hover label.sk-toggleable__label {\n",
              "  color: var(--sklearn-color-text);\n",
              "  background-color: var(--sklearn-color-unfitted-level-2);\n",
              "}\n",
              "\n",
              "/* Label box, darken color on hover, fitted */\n",
              "#sk-container-id-1 div.sk-label.fitted:hover label.sk-toggleable__label.fitted {\n",
              "  color: var(--sklearn-color-text);\n",
              "  background-color: var(--sklearn-color-fitted-level-2);\n",
              "}\n",
              "\n",
              "/* Estimator label */\n",
              "\n",
              "#sk-container-id-1 div.sk-label label {\n",
              "  font-family: monospace;\n",
              "  font-weight: bold;\n",
              "  display: inline-block;\n",
              "  line-height: 1.2em;\n",
              "}\n",
              "\n",
              "#sk-container-id-1 div.sk-label-container {\n",
              "  text-align: center;\n",
              "}\n",
              "\n",
              "/* Estimator-specific */\n",
              "#sk-container-id-1 div.sk-estimator {\n",
              "  font-family: monospace;\n",
              "  border: 1px dotted var(--sklearn-color-border-box);\n",
              "  border-radius: 0.25em;\n",
              "  box-sizing: border-box;\n",
              "  margin-bottom: 0.5em;\n",
              "  /* unfitted */\n",
              "  background-color: var(--sklearn-color-unfitted-level-0);\n",
              "}\n",
              "\n",
              "#sk-container-id-1 div.sk-estimator.fitted {\n",
              "  /* fitted */\n",
              "  background-color: var(--sklearn-color-fitted-level-0);\n",
              "}\n",
              "\n",
              "/* on hover */\n",
              "#sk-container-id-1 div.sk-estimator:hover {\n",
              "  /* unfitted */\n",
              "  background-color: var(--sklearn-color-unfitted-level-2);\n",
              "}\n",
              "\n",
              "#sk-container-id-1 div.sk-estimator.fitted:hover {\n",
              "  /* fitted */\n",
              "  background-color: var(--sklearn-color-fitted-level-2);\n",
              "}\n",
              "\n",
              "/* Specification for estimator info (e.g. \"i\" and \"?\") */\n",
              "\n",
              "/* Common style for \"i\" and \"?\" */\n",
              "\n",
              ".sk-estimator-doc-link,\n",
              "a:link.sk-estimator-doc-link,\n",
              "a:visited.sk-estimator-doc-link {\n",
              "  float: right;\n",
              "  font-size: smaller;\n",
              "  line-height: 1em;\n",
              "  font-family: monospace;\n",
              "  background-color: var(--sklearn-color-background);\n",
              "  border-radius: 1em;\n",
              "  height: 1em;\n",
              "  width: 1em;\n",
              "  text-decoration: none !important;\n",
              "  margin-left: 0.5em;\n",
              "  text-align: center;\n",
              "  /* unfitted */\n",
              "  border: var(--sklearn-color-unfitted-level-1) 1pt solid;\n",
              "  color: var(--sklearn-color-unfitted-level-1);\n",
              "}\n",
              "\n",
              ".sk-estimator-doc-link.fitted,\n",
              "a:link.sk-estimator-doc-link.fitted,\n",
              "a:visited.sk-estimator-doc-link.fitted {\n",
              "  /* fitted */\n",
              "  border: var(--sklearn-color-fitted-level-1) 1pt solid;\n",
              "  color: var(--sklearn-color-fitted-level-1);\n",
              "}\n",
              "\n",
              "/* On hover */\n",
              "div.sk-estimator:hover .sk-estimator-doc-link:hover,\n",
              ".sk-estimator-doc-link:hover,\n",
              "div.sk-label-container:hover .sk-estimator-doc-link:hover,\n",
              ".sk-estimator-doc-link:hover {\n",
              "  /* unfitted */\n",
              "  background-color: var(--sklearn-color-unfitted-level-3);\n",
              "  color: var(--sklearn-color-background);\n",
              "  text-decoration: none;\n",
              "}\n",
              "\n",
              "div.sk-estimator.fitted:hover .sk-estimator-doc-link.fitted:hover,\n",
              ".sk-estimator-doc-link.fitted:hover,\n",
              "div.sk-label-container:hover .sk-estimator-doc-link.fitted:hover,\n",
              ".sk-estimator-doc-link.fitted:hover {\n",
              "  /* fitted */\n",
              "  background-color: var(--sklearn-color-fitted-level-3);\n",
              "  color: var(--sklearn-color-background);\n",
              "  text-decoration: none;\n",
              "}\n",
              "\n",
              "/* Span, style for the box shown on hovering the info icon */\n",
              ".sk-estimator-doc-link span {\n",
              "  display: none;\n",
              "  z-index: 9999;\n",
              "  position: relative;\n",
              "  font-weight: normal;\n",
              "  right: .2ex;\n",
              "  padding: .5ex;\n",
              "  margin: .5ex;\n",
              "  width: min-content;\n",
              "  min-width: 20ex;\n",
              "  max-width: 50ex;\n",
              "  color: var(--sklearn-color-text);\n",
              "  box-shadow: 2pt 2pt 4pt #999;\n",
              "  /* unfitted */\n",
              "  background: var(--sklearn-color-unfitted-level-0);\n",
              "  border: .5pt solid var(--sklearn-color-unfitted-level-3);\n",
              "}\n",
              "\n",
              ".sk-estimator-doc-link.fitted span {\n",
              "  /* fitted */\n",
              "  background: var(--sklearn-color-fitted-level-0);\n",
              "  border: var(--sklearn-color-fitted-level-3);\n",
              "}\n",
              "\n",
              ".sk-estimator-doc-link:hover span {\n",
              "  display: block;\n",
              "}\n",
              "\n",
              "/* \"?\"-specific style due to the `<a>` HTML tag */\n",
              "\n",
              "#sk-container-id-1 a.estimator_doc_link {\n",
              "  float: right;\n",
              "  font-size: 1rem;\n",
              "  line-height: 1em;\n",
              "  font-family: monospace;\n",
              "  background-color: var(--sklearn-color-background);\n",
              "  border-radius: 1rem;\n",
              "  height: 1rem;\n",
              "  width: 1rem;\n",
              "  text-decoration: none;\n",
              "  /* unfitted */\n",
              "  color: var(--sklearn-color-unfitted-level-1);\n",
              "  border: var(--sklearn-color-unfitted-level-1) 1pt solid;\n",
              "}\n",
              "\n",
              "#sk-container-id-1 a.estimator_doc_link.fitted {\n",
              "  /* fitted */\n",
              "  border: var(--sklearn-color-fitted-level-1) 1pt solid;\n",
              "  color: var(--sklearn-color-fitted-level-1);\n",
              "}\n",
              "\n",
              "/* On hover */\n",
              "#sk-container-id-1 a.estimator_doc_link:hover {\n",
              "  /* unfitted */\n",
              "  background-color: var(--sklearn-color-unfitted-level-3);\n",
              "  color: var(--sklearn-color-background);\n",
              "  text-decoration: none;\n",
              "}\n",
              "\n",
              "#sk-container-id-1 a.estimator_doc_link.fitted:hover {\n",
              "  /* fitted */\n",
              "  background-color: var(--sklearn-color-fitted-level-3);\n",
              "}\n",
              "</style><div id=\"sk-container-id-1\" class=\"sk-top-container\"><div class=\"sk-text-repr-fallback\"><pre>RandomForestClassifier(max_depth=10, min_samples_leaf=3, min_samples_split=4,\n",
              "                       n_estimators=174, n_jobs=-1, random_state=42)</pre><b>In a Jupyter environment, please rerun this cell to show the HTML representation or trust the notebook. <br />On GitHub, the HTML representation is unable to render, please try loading this page with nbviewer.org.</b></div><div class=\"sk-container\" hidden><div class=\"sk-item\"><div class=\"sk-estimator  sk-toggleable\"><input class=\"sk-toggleable__control sk-hidden--visually\" id=\"sk-estimator-id-1\" type=\"checkbox\" checked><label for=\"sk-estimator-id-1\" class=\"sk-toggleable__label  sk-toggleable__label-arrow\"><div><div>RandomForestClassifier</div></div><div><a class=\"sk-estimator-doc-link \" rel=\"noreferrer\" target=\"_blank\" href=\"https://scikit-learn.org/1.6/modules/generated/sklearn.ensemble.RandomForestClassifier.html\">?<span>Documentation for RandomForestClassifier</span></a><span class=\"sk-estimator-doc-link \">i<span>Not fitted</span></span></div></label><div class=\"sk-toggleable__content \"><pre>RandomForestClassifier(max_depth=10, min_samples_leaf=3, min_samples_split=4,\n",
              "                       n_estimators=174, n_jobs=-1, random_state=42)</pre></div> </div></div></div></div>"
            ]
          },
          "metadata": {},
          "execution_count": 17
        }
      ]
    },
    {
      "cell_type": "code",
      "source": [
        "# --- Train the final model on ALL data ---\n",
        "print(\"\\nTraining the final, optimized model on the entire dataset...\")\n",
        "final_model.fit(X_norm, y)\n",
        "print(\"Final model training complete!\")"
      ],
      "metadata": {
        "colab": {
          "base_uri": "https://localhost:8080/"
        },
        "id": "Jf7u7QyAjRAD",
        "outputId": "16fecde3-76a5-4c2a-8820-542c826bcc47"
      },
      "execution_count": null,
      "outputs": [
        {
          "output_type": "stream",
          "name": "stdout",
          "text": [
            "\n",
            "Training the final, optimized model on the entire dataset...\n",
            "Final model training complete!\n"
          ]
        }
      ]
    },
    {
      "cell_type": "code",
      "source": [
        "# --- Save the final model to your Google Drive ---\n",
        "model_filename = '/content/drive/MyDrive/final_stress_detection_model.joblib'\n",
        "joblib.dump(final_model, model_filename)\n",
        "\n",
        "print(f\"\\n✅ Final optimized model has been trained and saved to: {model_filename}\")"
      ],
      "metadata": {
        "colab": {
          "base_uri": "https://localhost:8080/"
        },
        "id": "U2Qd-zb7jWBF",
        "outputId": "3ea50eb1-d564-4714-89c8-8e19d5b9503d"
      },
      "execution_count": null,
      "outputs": [
        {
          "output_type": "stream",
          "name": "stdout",
          "text": [
            "\n",
            "✅ Final optimized model has been trained and saved to: /content/drive/MyDrive/final_stress_detection_model.joblib\n"
          ]
        }
      ]
    },
    {
      "cell_type": "markdown",
      "source": [
        "## Example of prediction based on model input"
      ],
      "metadata": {
        "id": "QfxTUbgUlpOl"
      }
    },
    {
      "cell_type": "code",
      "source": [
        "import pandas as pd\n",
        "import joblib\n",
        "\n",
        "# --- The single new data point from above ---\n",
        "new_single_data_point = {\n",
        "    'ACC_X': 0.15, 'ACC_Y': -0.20, 'ACC_Z': 0.95, 'EDA': 1.5, 'TEMP': -0.5,\n",
        "    'HR': 1.8, 'RMSSD': -1.2, 'SDNN': -0.9, 'pNN50': -1.1,\n",
        "    'EDA_mean': 1.3, 'EDA_std': 0.8, 'EDA_min': 1.1, 'EDA_max': 1.6,\n",
        "    'TEMP_mean': -0.4, 'TEMP_std': 0.1, 'TEMP_min': -0.5, 'TEMP_max': -0.3,\n",
        "    'ACC_X_mean': 0.1, 'ACC_X_std': 0.05, 'ACC_X_min': 0.0, 'ACC_X_max': 0.2,\n",
        "    'ACC_Y_mean': -0.2, 'ACC_Y_std': 0.05, 'ACC_Y_min': -0.3, 'ACC_Y_max': -0.1,\n",
        "    'ACC_Z_mean': 0.9, 'ACC_Z_std': 0.05, 'ACC_Z_min': 0.8, 'ACC_Z_max': 1.0\n",
        "}\n",
        "\n",
        "# --- Convert the dictionary to a single-row DataFrame ---\n",
        "# The model expects a DataFrame, not a dictionary.\n",
        "new_data_df = pd.DataFrame([new_single_data_point])\n",
        "\n",
        "# --- Load your saved model ---\n",
        "model_filename = '/content/drive/MyDrive/final_stress_detection_model.joblib'\n",
        "loaded_model = joblib.load(model_filename)\n",
        "\n",
        "# --- Make the prediction ---\n",
        "prediction = loaded_model.predict(new_data_df)\n",
        "prediction_proba = loaded_model.predict_proba(new_data_df)\n",
        "\n",
        "# --- Interpret and print the result ---\n",
        "predicted_label = 'Stress' if prediction[0] == 1 else 'Non-Stress'\n",
        "stress_probability = prediction_proba[0][1]\n",
        "\n",
        "print(f\"The model predicts this data point is: '{predicted_label}'\")\n",
        "print(f\"Probability of Stress: {stress_probability:.2%}\")"
      ],
      "metadata": {
        "colab": {
          "base_uri": "https://localhost:8080/"
        },
        "id": "_c7l7t1qk-LT",
        "outputId": "6e05c6f6-aae0-414a-9659-28c8d99dafb8"
      },
      "execution_count": null,
      "outputs": [
        {
          "output_type": "stream",
          "name": "stdout",
          "text": [
            "The model predicts this data point is: 'Stress'\n",
            "Probability of Stress: 81.18%\n"
          ]
        }
      ]
    },
    {
      "cell_type": "markdown",
      "source": [
        "Yes, that is exactly right.\n",
        "\n",
        "The model you built is a **binary classifier**. Its only job is to decide between those two possible categories.\n",
        "\n",
        "In your code, you specifically set up the problem this way when you converted the original labels into a binary format:\n",
        "* **1 = Stress**\n",
        "* **0 = Non-Stress**\n",
        "\n",
        "So, every prediction the model makes will be one of those two options. Your understanding is perfect."
      ],
      "metadata": {
        "id": "RQTPuPEClg7W"
      }
    },
    {
      "cell_type": "code",
      "source": [],
      "metadata": {
        "id": "id4DfOSelJVh"
      },
      "execution_count": null,
      "outputs": []
    }
  ]
}